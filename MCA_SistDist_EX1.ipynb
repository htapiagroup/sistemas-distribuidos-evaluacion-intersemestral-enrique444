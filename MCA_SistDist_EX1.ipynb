{
  "nbformat": 4,
  "nbformat_minor": 0,
  "metadata": {
    "colab": {
      "name": "MCA_SistDist_EX1.ipynb",
      "version": "0.3.2",
      "provenance": [],
      "collapsed_sections": [],
      "include_colab_link": true
    },
    "kernelspec": {
      "name": "python3",
      "display_name": "Python 3"
    }
  },
  "cells": [
    {
      "cell_type": "markdown",
      "metadata": {
        "id": "view-in-github",
        "colab_type": "text"
      },
      "source": [
        "<a href=\"https://colab.research.google.com/github/htapiagroup/sistemas-distribuidos-evaluacion-intersemestral-enrique444/blob/master/MCA_SistDist_EX1.ipynb\" target=\"_parent\"><img src=\"https://colab.research.google.com/assets/colab-badge.svg\" alt=\"Open In Colab\"/></a>"
      ]
    },
    {
      "cell_type": "markdown",
      "metadata": {
        "id": "_m7gk0G7SIhG",
        "colab_type": "text"
      },
      "source": [
        "#Pedro Enrique Virgen Dorantes\n"
      ]
    },
    {
      "cell_type": "code",
      "metadata": {
        "id": "TBERBFjOLoKE",
        "colab_type": "code",
        "colab": {}
      },
      "source": [
        "!wget https://archive.org/download/nycTaxiTripData2013/trip_data.7z"
      ],
      "execution_count": 0,
      "outputs": []
    },
    {
      "cell_type": "code",
      "metadata": {
        "id": "_aIAFW6Caqan",
        "colab_type": "code",
        "colab": {}
      },
      "source": [
        "!7z x trip_data.7z -o/content trip_data_1.csv\n",
        "!7z x trip_data.7z -o/content trip_data_2.csv\n",
        "!7z x trip_data.7z -o/content trip_data_3.csv\n",
        "!7z x trip_data.7z -o/content trip_data_4.csv"
      ],
      "execution_count": 0,
      "outputs": []
    },
    {
      "cell_type": "code",
      "metadata": {
        "id": "jUnq8fgZfbo-",
        "colab_type": "code",
        "colab": {
          "base_uri": "https://localhost:8080/",
          "height": 51
        },
        "outputId": "2c85ee46-2654-4bf6-8f38-126710ff09bb"
      },
      "source": [
        "ls"
      ],
      "execution_count": 21,
      "outputs": [
        {
          "output_type": "stream",
          "text": [
            "\u001b[0m\u001b[01;34msample_data\u001b[0m/      \u001b[01;32mtrip_data_2.csv\u001b[0m*  \u001b[01;32mtrip_data_4.csv\u001b[0m*\n",
            "\u001b[01;32mtrip_data_1.csv\u001b[0m*  \u001b[01;32mtrip_data_3.csv\u001b[0m*  trip_data.7z\n"
          ],
          "name": "stdout"
        }
      ]
    },
    {
      "cell_type": "markdown",
      "metadata": {
        "id": "h5uML3N0fqvD",
        "colab_type": "text"
      },
      "source": [
        "##3.- Responder las preguntas\n",
        "\n",
        "\n",
        "1.   Cuantas columnas contiene cada archivo de datos descomprimido\n",
        "2.   Cuantos renglones tiene cada archivo\n",
        "\n",
        "Respuesta:\n",
        "\n",
        "* Archivo 1 tiene 14776615 filas y 14 columnas\n",
        "* Archivo 2 tiene 13990176 filas y 14 columnas\n",
        "* Archivo 3 tiene 15749228 filas y 14 columnas\n",
        "* Archivo 4 tiene 15100468 filas y 14 columnas"
      ]
    },
    {
      "cell_type": "code",
      "metadata": {
        "id": "YJ-PBBUKf21n",
        "colab_type": "code",
        "colab": {}
      },
      "source": [
        "import pandas as pd"
      ],
      "execution_count": 0,
      "outputs": []
    },
    {
      "cell_type": "code",
      "metadata": {
        "id": "pIRNshtvf9ny",
        "colab_type": "code",
        "colab": {
          "base_uri": "https://localhost:8080/",
          "height": 207
        },
        "outputId": "22d21126-2743-49b4-ef2f-e42e723a7af2"
      },
      "source": [
        "plantilla = \"trip_data_{}.csv\"\n",
        "for x in range(1,5):\n",
        "  df_temp = pd.read_csv(plantilla.format(x))\n",
        "  print(df_temp.shape)\n",
        "  print(\"------------------------------\")"
      ],
      "execution_count": 25,
      "outputs": [
        {
          "output_type": "stream",
          "text": [
            "(14776615, 14)\n",
            "------------------------------\n"
          ],
          "name": "stdout"
        },
        {
          "output_type": "stream",
          "text": [
            "/usr/local/lib/python3.6/dist-packages/IPython/core/interactiveshell.py:2718: DtypeWarning: Columns (4) have mixed types. Specify dtype option on import or set low_memory=False.\n",
            "  interactivity=interactivity, compiler=compiler, result=result)\n"
          ],
          "name": "stderr"
        },
        {
          "output_type": "stream",
          "text": [
            "(13990176, 14)\n",
            "------------------------------\n",
            "(15749228, 14)\n",
            "------------------------------\n",
            "(15100468, 14)\n",
            "------------------------------\n"
          ],
          "name": "stdout"
        }
      ]
    }
  ]
}