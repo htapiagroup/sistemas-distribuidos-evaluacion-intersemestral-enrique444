{
  "nbformat": 4,
  "nbformat_minor": 0,
  "metadata": {
    "colab": {
      "name": "MCA_SistDist_EX1.ipynb",
      "version": "0.3.2",
      "provenance": [],
      "collapsed_sections": [
        "jGdQal1pWkRv",
        "h5uML3N0fqvD",
        "nO1oPkqq0m-D",
        "YA07PpvXfhN_",
        "ncgDJO7fNivZ",
        "luL3bhSNCuGw",
        "TOy2LNYdFfa-"
      ],
      "include_colab_link": true
    },
    "kernelspec": {
      "name": "python3",
      "display_name": "Python 3"
    }
  },
  "cells": [
    {
      "cell_type": "markdown",
      "metadata": {
        "id": "view-in-github",
        "colab_type": "text"
      },
      "source": [
        "<a href=\"https://colab.research.google.com/github/htapiagroup/sistemas-distribuidos-evaluacion-intersemestral-enrique444/blob/master/MCA_SistDist_EX1.ipynb\" target=\"_parent\"><img src=\"https://colab.research.google.com/assets/colab-badge.svg\" alt=\"Open In Colab\"/></a>"
      ]
    },
    {
      "cell_type": "markdown",
      "metadata": {
        "id": "_m7gk0G7SIhG",
        "colab_type": "text"
      },
      "source": [
        "#Pedro Enrique Virgen Dorantes\n"
      ]
    },
    {
      "cell_type": "markdown",
      "metadata": {
        "id": "jGdQal1pWkRv",
        "colab_type": "text"
      },
      "source": [
        "## 1 y 2.- Adquirir los datos y descomprimirlos."
      ]
    },
    {
      "cell_type": "code",
      "metadata": {
        "id": "TBERBFjOLoKE",
        "colab_type": "code",
        "colab": {
          "base_uri": "https://localhost:8080/",
          "height": 68
        },
        "outputId": "d870dc3e-8180-45fb-938c-6739b6baffc6"
      },
      "source": [
        "!wget https://archive.org/download/nycTaxiTripData2013/trip_data.7z"
      ],
      "execution_count": 7,
      "outputs": [
        {
          "output_type": "stream",
          "text": [
            "  % Total    % Received % Xferd  Average Speed   Time    Time     Time  Current\r\n",
            "                                 Dload  Upload   Total   Spent    Left  Speed\n",
            "  0     0    0     0    0     0      0      0 --:--:-- --:--:-- --:--:--     0\n"
          ],
          "name": "stdout"
        }
      ]
    },
    {
      "cell_type": "code",
      "metadata": {
        "id": "_aIAFW6Caqan",
        "colab_type": "code",
        "colab": {}
      },
      "source": [
        "!7z x trip_data.7z -o/content trip_data_1.csv\n",
        "!7z x trip_data.7z -o/content trip_data_2.csv\n",
        "!7z x trip_data.7z -o/content trip_data_3.csv\n",
        "!7z x trip_data.7z -o/content trip_data_4.csv"
      ],
      "execution_count": 0,
      "outputs": []
    },
    {
      "cell_type": "code",
      "metadata": {
        "id": "NCjA14DkZ5jf",
        "colab_type": "code",
        "colab": {}
      },
      "source": [
        "import os\n",
        "import pandas as pd\n",
        "for i in range(1,5):\n",
        "  df = pd.read_csv(\"trip_data_{}.csv\".format(i), usecols=[\"medallion\", \"pickup_datetime\", \"dropoff_datetime\", \"passenger_count\", \"trip_time_in_secs\", \"pickup_longitude\", \"pickup_latitude\", \"dropoff_longitude\", \"dropoff_latitude\"])\n",
        "  df.columns = df.columns.str.strip()\n",
        "  os.remove(\"trip_data_{}.csv\".format(i))\n",
        "  df.to_csv(\"trip_data_{}.csv\".format(i), sep=',', encoding='utf-8', columns=[\"medallion\", \"pickup_datetime\", \"dropoff_datetime\", \"passenger_count\", \"trip_time_in_secs\", \"pickup_longitude\", \"pickup_latitude\", \"dropoff_longitude\", \"dropoff_latitude\"])"
      ],
      "execution_count": 0,
      "outputs": []
    },
    {
      "cell_type": "code",
      "metadata": {
        "id": "jUnq8fgZfbo-",
        "colab_type": "code",
        "colab": {}
      },
      "source": [
        "ls -la"
      ],
      "execution_count": 0,
      "outputs": []
    },
    {
      "cell_type": "code",
      "metadata": {
        "id": "o_TxcISKST1B",
        "colab_type": "code",
        "colab": {}
      },
      "source": [
        "rm trip_data.7z"
      ],
      "execution_count": 0,
      "outputs": []
    },
    {
      "cell_type": "markdown",
      "metadata": {
        "id": "h5uML3N0fqvD",
        "colab_type": "text"
      },
      "source": [
        "##3.- Responder las preguntas\n",
        "\n",
        "\n",
        "1.   Cuantas columnas contiene cada archivo de datos descomprimido\n",
        "2.   Cuantos renglones tiene cada archivo\n",
        "\n",
        "Respuesta:\n",
        "\n",
        "* Archivo 1 tiene 14776615 filas y 14 columnas\n",
        "* Archivo 2 tiene 13990176 filas y 14 columnas\n",
        "* Archivo 3 tiene 15749228 filas y 14 columnas\n",
        "* Archivo 4 tiene 15100468 filas y 14 columnas\n",
        "* Archivo 5 tiene 15285049 filas y 14 columnas\n",
        "* Archivo 6 tiene 14385456 filas y 14 columnas\n",
        "* Archivo 7 tiene 13823840 filas y 14 columnas\n",
        "* Archivo 8 tiene 12597109 filas y 14 columnas\n",
        "* Archivo 9 tiene 14107693 filas y 14 columnas\n",
        "* Archivo 10 tiene 15004556 filas y 14 columnas\n",
        "* Archivo 11 tiene 14388451 filas y 14 columnas\n",
        "* Archivo 12 tiene 13971118 filas y 14 columnas\n",
        "\n",
        "La respuesta fué obtenida ejecutando el codigo de las siguientes 2 celdas:"
      ]
    },
    {
      "cell_type": "code",
      "metadata": {
        "id": "YJ-PBBUKf21n",
        "colab_type": "code",
        "colab": {}
      },
      "source": [
        "import pandas as pd\n",
        "import dask.dataframe as dd"
      ],
      "execution_count": 0,
      "outputs": []
    },
    {
      "cell_type": "code",
      "metadata": {
        "id": "5ZCMB8c6pOi2",
        "colab_type": "code",
        "outputId": "b5e293e3-5528-468f-ab0b-39f675eff574",
        "colab": {
          "base_uri": "https://localhost:8080/",
          "height": 425
        }
      },
      "source": [
        "plantilla = \"/Users/enriquedorantes/ig2/trip_data/trip_data_{}.csv\"\n",
        "for x in range(1, 13):\n",
        "  df_temp = dd.read_csv(plantilla.format(x), dtype={' store_and_fwd_flag': 'object'})\n",
        "  print(df_temp.compute().shape)\n",
        "  print(\"------------------------------\")"
      ],
      "execution_count": 11,
      "outputs": [
        {
          "output_type": "stream",
          "text": [
            "/Library/Frameworks/Python.framework/Versions/3.7/lib/python3.7/site-packages/dask/core.py:118: DtypeWarning: Columns (4) have mixed types. Specify dtype option on import or set low_memory=False.\n",
            "  args2 = [_execute_task(a, cache) for a in args]\n"
          ],
          "name": "stderr"
        },
        {
          "output_type": "stream",
          "text": [
            "(14776615, 14)\n",
            "------------------------------\n"
          ],
          "name": "stdout"
        },
        {
          "output_type": "stream",
          "text": [
            "/Library/Frameworks/Python.framework/Versions/3.7/lib/python3.7/site-packages/dask/core.py:118: DtypeWarning: Columns (4) have mixed types. Specify dtype option on import or set low_memory=False.\n",
            "  args2 = [_execute_task(a, cache) for a in args]\n"
          ],
          "name": "stderr"
        },
        {
          "output_type": "stream",
          "text": [
            "(13990176, 14)\n",
            "------------------------------\n",
            "(15749228, 14)\n",
            "------------------------------\n",
            "(15100468, 14)\n",
            "------------------------------\n",
            "(15285049, 14)\n",
            "------------------------------\n",
            "(14385456, 14)\n",
            "------------------------------\n",
            "(13823840, 14)\n",
            "------------------------------\n",
            "(12597109, 14)\n",
            "------------------------------\n",
            "(14107693, 14)\n",
            "------------------------------\n",
            "(15004556, 14)\n",
            "------------------------------\n",
            "(14388451, 14)\n",
            "------------------------------\n",
            "(13971118, 14)\n",
            "------------------------------\n"
          ],
          "name": "stdout"
        }
      ]
    },
    {
      "cell_type": "markdown",
      "metadata": {
        "id": "nO1oPkqq0m-D",
        "colab_type": "text"
      },
      "source": [
        "##4.- Identificar si existen renglones con errores en los datos, por ejemplo si hay columnas de mas (o de menos), si hay campos vacios, etc. Si se detectan renglones con errores:\n",
        "\n",
        "\n",
        "1.   Indicar claramente cuantos son los renglones con errores y a que archivos corresponden\n",
        "2.   Crear un nuevo conjunto de datos con los errores eliminados\n",
        "\n",
        "Respuesta:\n",
        "\n",
        "* El archivo 1 tiene: \n",
        "** 7326207 renglones con errores de datos faltantes\n",
        "** 140165 errores de coordenadas fuera del cuadro de NY\n",
        "** 33 errores de número pasajeros\n",
        "\n",
        "* El archivo 2 tiene: \n",
        "** 6952551 renglones con errores de datos faltantes\n",
        "** 137878 errores de coordenadas fuera del cuadro de NY\n",
        "** 55 errores de número pasajeros\n",
        "\n",
        "* El archivo 3 tiene: \n",
        "** Errores en el nombre de sus columnas (un espacio al principio)\n",
        "** 7819244 renglones con errores de datos faltantes\n",
        "** 157562 errores de coordenadas fuera del cuadro de NY\n",
        "** 64 errores de número pasajeros\n",
        "\n",
        "* El archivo 4 tiene: \n",
        "** Errores en el nombre de sus columnas (un espacio al principio)\n",
        "** 7518657 renglones con errores de datos faltantes\n",
        "** 150954 errores de coordenadas fuera del cuadro de NY\n",
        "** 44 errores de número pasajeros\n",
        "\n",
        "* El archivo 5 tiene: \n",
        "** 7621856 renglones con errores de datos faltantes\n",
        "** 159819 errores de coordenadas fuera del cuadro de NY\n",
        "** 33 errores de número pasajeros\n",
        "\n",
        "* El archivo 6 tiene: \n",
        "** 7222712 renglones con errores de datos faltantes\n",
        "** 146824 errores de coordenadas fuera del cuadro de NY\n",
        "** 40 errores de número pasajeros\n",
        "\n",
        "* El archivo 7 tiene: \n",
        "** 6990760 renglones con errores de datos faltantes\n",
        "** 133125 errores de coordenadas fuera del cuadro de NY\n",
        "** 57 errores de número pasajeros\n",
        "\n",
        "* El archivo 8 tiene: \n",
        "** 6066630 renglones con errores de datos faltantes\n",
        "** 87484 errores de coordenadas fuera del cuadro de NY\n",
        "** 125 errores de número pasajeros\n",
        "\n",
        "* El archivo 9 tiene: \n",
        "** 7159367 renglones con errores de datos faltantes\n",
        "** 90397 errores de coordenadas fuera del cuadro de NY\n",
        "** 52 errores de número pasajeros\n",
        "\n",
        "* El archivo 10 tiene: \n",
        "** 7529626 renglones con errores de datos faltantes\n",
        "** 109822 errores de coordenadas fuera del cuadro de NY\n",
        "** 51 errores de número pasajeros\n",
        "\n",
        "* El archivo 11 tiene: \n",
        "** 7252607 renglones con errores de datos faltantes\n",
        "** 110037 errores de coordenadas fuera del cuadro de NY\n",
        "** 84 errores de número pasajeros\n",
        "\n",
        "* El archivo 11 tiene: \n",
        "** 7058912 renglones con errores de datos faltantes\n",
        "** 110430 errores de coordenadas fuera del cuadro de NY\n",
        "** 77 errores de número pasajeros\n",
        "\n",
        "\n",
        "Se crearon archivos  nuevos sin los datos con errores encontrados:\n",
        "* limpio_trip_data_1.csv\n",
        "* limpio_trip_data_2.csv\n",
        "* limpio_trip_data_3.csv\n",
        "* limpio_trip_data_4.csv\n",
        "* limpio_trip_data_5.csv\n",
        "* limpio_trip_data_6.csv\n",
        "* limpio_trip_data_7.csv\n",
        "* limpio_trip_data_8.csv\n",
        "* limpio_trip_data_9.csv\n",
        "* limpio_trip_data_10.csv\n",
        "* limpio_trip_data_11.csv\n",
        "* limpio_trip_data_12.csv\n",
        "\n",
        "La respuesta fué obtenida ejecutando el codigo de las siguientes 8 celdas:"
      ]
    },
    {
      "cell_type": "code",
      "metadata": {
        "id": "54GGx37pTQrt",
        "colab_type": "code",
        "colab": {}
      },
      "source": [
        "import pandas as pd"
      ],
      "execution_count": 0,
      "outputs": []
    },
    {
      "cell_type": "code",
      "metadata": {
        "id": "cJ0l172dhOnR",
        "colab_type": "code",
        "colab": {
          "base_uri": "https://localhost:8080/",
          "height": 629
        },
        "outputId": "12d34cac-2950-4ec7-a8dc-e9aadf7758c4"
      },
      "source": [
        "plantilla = \"/Users/enriquedorantes/ig2/trip_data/trip_data_{}.csv\"\n",
        "plantillaOut = \"/Users/enriquedorantes/ig2/trip_data/limpio_trip_data_{}.csv\"\n",
        "missing_values = [\"\", \" \", \"-\", \"_\"]\n",
        "\n",
        "for x in range(1, 13):\n",
        "  df_temp = pd.read_csv(plantilla.format(x), na_values = missing_values)\n",
        "  datosConErrores = df_temp.isna()\n",
        "  errores = datosConErrores[datosConErrores.isin([True])].dropna(how=\"all\")\n",
        "  print(\"El archivo {} tiene {} renglones con errores de datos faltantes\".format(x, errores.shape[0]))\n",
        "  df_temp = df_temp.drop(errores.index)\n",
        "  antes = df_temp.shape[0]\n",
        "  df_temp.columns = df_temp.columns.str.strip()\n",
        "  df_temp = df_temp[(df_temp[\"pickup_longitude\"] > -74.253842) & (df_temp[\"pickup_longitude\"] <  -73.709271) & (df_temp[\"pickup_latitude\"] > 40.495089) & (df_temp[\"pickup_latitude\"] < 40.910281)]\n",
        "  print(\"El archivo {} tiene {} errores de coordenadas\".format(x, (antes - df_temp.shape[0])))\n",
        "  antes = df_temp.shape[0]\n",
        "  df_temp = df_temp[(df_temp[\"passenger_count\"] > 0) & (df_temp[\"passenger_count\"] < 7)]\n",
        "  print(\"El archivo {} tiene {} errores de pasajeros\".format(x, (antes - df_temp.shape[0])))\n",
        "  df_temp.to_csv(plantillaOut.format(x), sep=',', encoding='utf-8')"
      ],
      "execution_count": 83,
      "outputs": [
        {
          "output_type": "stream",
          "text": [
            "El archivo 1 tiene 7326207 renglones con errores de datos faltantes\n",
            "El archivo 1 tiene 140165 errores de coordenadas\n",
            "El archivo 1 tiene 33 errores de pasajeros\n",
            "El archivo 2 tiene 6952551 renglones con errores de datos faltantes\n",
            "El archivo 2 tiene 137878 errores de coordenadas\n",
            "El archivo 2 tiene 55 errores de pasajeros\n",
            "El archivo 3 tiene 7819244 renglones con errores de datos faltantes\n",
            "El archivo 3 tiene 157562 errores de coordenadas\n",
            "El archivo 3 tiene 64 errores de pasajeros\n",
            "El archivo 4 tiene 7518657 renglones con errores de datos faltantes\n",
            "El archivo 4 tiene 150954 errores de coordenadas\n",
            "El archivo 4 tiene 44 errores de pasajeros\n",
            "El archivo 5 tiene 7621856 renglones con errores de datos faltantes\n",
            "El archivo 5 tiene 159819 errores de coordenadas\n",
            "El archivo 5 tiene 33 errores de pasajeros\n",
            "El archivo 6 tiene 7222712 renglones con errores de datos faltantes\n",
            "El archivo 6 tiene 146824 errores de coordenadas\n",
            "El archivo 6 tiene 40 errores de pasajeros\n",
            "El archivo 7 tiene 6990760 renglones con errores de datos faltantes\n",
            "El archivo 7 tiene 133125 errores de coordenadas\n",
            "El archivo 7 tiene 57 errores de pasajeros\n",
            "El archivo 8 tiene 6066630 renglones con errores de datos faltantes\n",
            "El archivo 8 tiene 87484 errores de coordenadas\n",
            "El archivo 8 tiene 125 errores de pasajeros\n",
            "El archivo 9 tiene 7159367 renglones con errores de datos faltantes\n",
            "El archivo 9 tiene 90397 errores de coordenadas\n",
            "El archivo 9 tiene 52 errores de pasajeros\n",
            "El archivo 10 tiene 7529626 renglones con errores de datos faltantes\n",
            "El archivo 10 tiene 109822 errores de coordenadas\n",
            "El archivo 10 tiene 51 errores de pasajeros\n",
            "El archivo 11 tiene 7252607 renglones con errores de datos faltantes\n",
            "El archivo 11 tiene 110037 errores de coordenadas\n",
            "El archivo 11 tiene 84 errores de pasajeros\n",
            "El archivo 12 tiene 7058912 renglones con errores de datos faltantes\n",
            "El archivo 12 tiene 110430 errores de coordenadas\n",
            "El archivo 12 tiene 77 errores de pasajeros\n"
          ],
          "name": "stdout"
        }
      ]
    },
    {
      "cell_type": "code",
      "metadata": {
        "id": "lOTOj1K1xmJc",
        "colab_type": "code",
        "colab": {}
      },
      "source": [
        "!rm /Users/enriquedorantes/ig2/trip_data/trip_data_1.csv\n",
        "!rm /Users/enriquedorantes/ig2/trip_data/trip_data_2.csv\n",
        "!rm /Users/enriquedorantes/ig2/trip_data/trip_data_3.csv\n",
        "!rm /Users/enriquedorantes/ig2/trip_data/trip_data_4.csv\n",
        "!rm /Users/enriquedorantes/ig2/trip_data/trip_data_5.csv\n",
        "!rm /Users/enriquedorantes/ig2/trip_data/trip_data_6.csv\n",
        "!rm /Users/enriquedorantes/ig2/trip_data/trip_data_7.csv\n",
        "!rm /Users/enriquedorantes/ig2/trip_data/trip_data_8.csv\n",
        "!rm /Users/enriquedorantes/ig2/trip_data/trip_data_9.csv\n",
        "!rm /Users/enriquedorantes/ig2/trip_data/trip_data_10.csv\n",
        "!rm /Users/enriquedorantes/ig2/trip_data/trip_data_11.csv\n",
        "!rm /Users/enriquedorantes/ig2/trip_data/trip_data_12.csv\n"
      ],
      "execution_count": 0,
      "outputs": []
    },
    {
      "cell_type": "markdown",
      "metadata": {
        "id": "YA07PpvXfhN_",
        "colab_type": "text"
      },
      "source": [
        "## 5.- Crear un DataFrame usando la libreria pandas\n",
        "\n",
        "Responder lo siguiente:\n",
        "\n",
        "* Indicar el tiempo en segundos, que tarda la libreria pandas en leer un archivo a un DataFrame.\n",
        "* Cual es la huella de memoria del proceso usado para generar el objeto DataFrame\n",
        "* Cuanta memoria del sistema se usa para crear el objeto anterior\n",
        "* Indicar el tiempo que tarda pandas en obtener el promedio de la distancia de viaje (trip_distance)\n",
        "\n",
        "Respuesta:\n",
        "\n",
        "* Pandas tardó 103.3 segundos en leer el archivo.\n",
        "* La huella de memoria es 910.65 mb.\n",
        "* Se usa 1.5+ GB de memoria para crear el objeto.\n",
        "* El tiempo que toma en obtener el promedio es 33.91 ms\n",
        "\n",
        "La respuesta fué obtenida ejecutando el codigo de las siguientes 5 celdas:"
      ]
    },
    {
      "cell_type": "code",
      "metadata": {
        "id": "rJWH_yh7fjZM",
        "colab_type": "code",
        "colab": {}
      },
      "source": [
        "import time\n",
        "import psutil, os"
      ],
      "execution_count": 0,
      "outputs": []
    },
    {
      "cell_type": "code",
      "metadata": {
        "id": "VtvsIFuJiB8F",
        "colab_type": "code",
        "colab": {}
      },
      "source": [
        "def huella_de_memoria():\n",
        "  '''Regresa la memoria usada por un proceso en Python'''\n",
        "  mem = psutil.Process(os.getpid()).memory_info().rss\n",
        "  return(mem / 1024**2)"
      ],
      "execution_count": 0,
      "outputs": []
    },
    {
      "cell_type": "code",
      "metadata": {
        "id": "uXW4poGug1UX",
        "colab_type": "code",
        "outputId": "de6d8bc9-b9eb-43a1-f3cb-44ecc176302d",
        "colab": {
          "base_uri": "https://localhost:8080/",
          "height": 122
        }
      },
      "source": [
        "start = time.time()\n",
        "antes = huella_de_memoria()\n",
        "df = pd.read_csv(\"trip_data_2.csv\")\n",
        "end = time.time()\n",
        "despues = huella_de_memoria()\n",
        "print(despues)\n",
        "print(\"El tiempo que toma leer el archivo es {} segundos\".format(end - start))\n",
        "print(\"La huella de memoria del proceso para leer el archivo es {} \".format(despues-antes))"
      ],
      "execution_count": 0,
      "outputs": [
        {
          "output_type": "stream",
          "text": [
            "/usr/local/lib/python3.6/dist-packages/IPython/core/interactiveshell.py:2718: DtypeWarning: Columns (4) have mixed types. Specify dtype option on import or set low_memory=False.\n",
            "  interactivity=interactivity, compiler=compiler, result=result)\n"
          ],
          "name": "stderr"
        },
        {
          "output_type": "stream",
          "text": [
            "11141.29296875\n",
            "El tiempo que toma leer el archivo es 103.27230644226074 segundos\n",
            "La huella de memoria del proceso para leer el archivo es 910.64453125 \n"
          ],
          "name": "stdout"
        }
      ]
    },
    {
      "cell_type": "code",
      "metadata": {
        "id": "21FHpRBsk-yb",
        "colab_type": "code",
        "outputId": "e0e704ae-4c02-41f8-c59a-76d87ea10146",
        "colab": {
          "base_uri": "https://localhost:8080/",
          "height": 340
        }
      },
      "source": [
        "df.info()"
      ],
      "execution_count": 0,
      "outputs": [
        {
          "output_type": "stream",
          "text": [
            "<class 'pandas.core.frame.DataFrame'>\n",
            "RangeIndex: 13990176 entries, 0 to 13990175\n",
            "Data columns (total 14 columns):\n",
            "medallion             object\n",
            "hack_license          object\n",
            "vendor_id             object\n",
            "rate_code             int64\n",
            "store_and_fwd_flag    object\n",
            "pickup_datetime       object\n",
            "dropoff_datetime      object\n",
            "passenger_count       int64\n",
            "trip_time_in_secs     int64\n",
            "trip_distance         float64\n",
            "pickup_longitude      float64\n",
            "pickup_latitude       float64\n",
            "dropoff_longitude     float64\n",
            "dropoff_latitude      float64\n",
            "dtypes: float64(5), int64(3), object(6)\n",
            "memory usage: 1.5+ GB\n"
          ],
          "name": "stdout"
        }
      ]
    },
    {
      "cell_type": "code",
      "metadata": {
        "id": "l924VDuKg2hx",
        "colab_type": "code",
        "outputId": "753847f2-0d16-48d6-8d7f-af3fb58d7b4b",
        "colab": {
          "base_uri": "https://localhost:8080/",
          "height": 34
        }
      },
      "source": [
        "start = time.time()\n",
        "df[\"trip_distance\"].mean()\n",
        "end = time.time()\n",
        "print(\"El tiempo que toma en obtener el promedio es {} ms\".format(  (end - start) * 1000  ))"
      ],
      "execution_count": 0,
      "outputs": [
        {
          "output_type": "stream",
          "text": [
            "El tiempo que toma en obtener el promedio es 33.90693664550781 ms\n"
          ],
          "name": "stdout"
        }
      ]
    },
    {
      "cell_type": "markdown",
      "metadata": {
        "id": "ncgDJO7fNivZ",
        "colab_type": "text"
      },
      "source": [
        "#6.- Todos los pasos siguientes deben realizarse usando la libreria dask:\n",
        "\n",
        "* Indicar el tiempo que tarda en obtener el promedio de la distancia de viaje (trip_distance)\n",
        "* Indicar el tiempo que tarda en obtener el promedio de la duracion de viaje (trip_time_in_secs)\n",
        "* Con las columnas pickup_datetime y dropoff_datetime como objetos temporales, crear una nueva columna en los dataframes que se llame duracion y compararla renglon a renglon con la columna trip_time_in_secs\n",
        "* Definir un viaje_largo como aquellos en los que la duracion del viaje (trip_time_in_secs) sea mayor a 20 minutos.\n",
        "\n",
        "\n",
        "Respuestas:\n",
        "\n",
        "* El tiempo que toma en obtener el promedio de la distancia de viaje es 336.3 segundos\n",
        "* El promedio de la distancia de viaje es 13.85\n",
        "\n",
        "* El tiempo que toma en obtener el promedio de la duracion de viaje es 333.7 segundos\n",
        "* El promedio de la distancia de viaje es 862.5\n",
        "\n",
        "* Existen 32200528 registros en los que la duracion registrada es diferente a la calculada\n",
        "\n",
        "* Existen 13222663 viajes largos en lso datos\n",
        "\n",
        "\n",
        "\n",
        "\n"
      ]
    },
    {
      "cell_type": "code",
      "metadata": {
        "id": "TVYI2DMNOEpz",
        "colab_type": "code",
        "colab": {}
      },
      "source": [
        "import dask.dataframe as dd\n",
        "import time"
      ],
      "execution_count": 0,
      "outputs": []
    },
    {
      "cell_type": "code",
      "metadata": {
        "id": "1c8iDJPcXnN5",
        "colab_type": "code",
        "colab": {}
      },
      "source": [
        "datos = dd.read_csv(\"/Users/enriquedorantes/ig2/trip_data/*.csv\")"
      ],
      "execution_count": 0,
      "outputs": []
    },
    {
      "cell_type": "code",
      "metadata": {
        "id": "J-KIN-USeq3v",
        "colab_type": "code",
        "outputId": "b21dfe25-aa31-435b-b602-bd10c9a48897",
        "colab": {
          "base_uri": "https://localhost:8080/",
          "height": 71
        }
      },
      "source": [
        "r = datos[\"trip_distance\"].mean()\n",
        "start = time.time()\n",
        "promedio = r.compute()\n",
        "end = time.time()\n",
        "print(\"El tiempo que toma en obtener el promedio de la distancia de viaje es {} segundos\".format(end - start))\n",
        "print(\"El promedio de la distancia de viaje es {}\".format(promedio))"
      ],
      "execution_count": 88,
      "outputs": [
        {
          "output_type": "stream",
          "text": [
            "El tiempo que toma en obtener el promedio de la distancia de viaje es 336.33632493019104 segundos\n",
            "El promedio de la distancia de viaje es 13.85304564143227\n"
          ],
          "name": "stdout"
        }
      ]
    },
    {
      "cell_type": "code",
      "metadata": {
        "id": "5LCVwd1XhDbw",
        "colab_type": "code",
        "outputId": "3c2e4169-fd78-4724-8d64-dfcb0cfa3ebc",
        "colab": {
          "base_uri": "https://localhost:8080/",
          "height": 71
        }
      },
      "source": [
        "r = datos[\"trip_time_in_secs\"].mean()\n",
        "start = time.time()\n",
        "promedio = r.compute()\n",
        "end = time.time()\n",
        "print(\"El tiempo que toma en obtener el promedio de la duracion de viaje es {} segundos\".format(end - start))\n",
        "print(\"El promedio de la duracion de viaje es {}\".format(promedio))"
      ],
      "execution_count": 90,
      "outputs": [
        {
          "output_type": "stream",
          "text": [
            "El tiempo que toma en obtener el promedio de la duracion de viaje es 333.70051407814026 segundos\n",
            "El promedio de la distancia de viaje es 862.5717876768605\n"
          ],
          "name": "stdout"
        }
      ]
    },
    {
      "cell_type": "code",
      "metadata": {
        "id": "9fs6yJxaifE9",
        "colab_type": "code",
        "outputId": "0e8d0628-f132-4496-a6ee-ec537a47ec01",
        "colab": {
          "base_uri": "https://localhost:8080/",
          "height": 54
        }
      },
      "source": [
        "datos[\"pickup_datetime\"] = dd.to_datetime( datos[\"pickup_datetime\"] )\n",
        "datos[\"dropoff_datetime\"] = dd.to_datetime( datos[\"dropoff_datetime\"] )\n",
        "datos[\"duracion\"] = datos[\"dropoff_datetime\"] - datos[\"pickup_datetime\"]\n",
        "datos[\"duracion\"] = datos[\"duracion\"].dt.total_seconds()\n",
        "out = datos[(datos[\"duracion\"] != datos[\"trip_time_in_secs\"] )]\n",
        "print(\"Existen {} registros en los que la duracion registrada es diferente a la calculada\".format(datos.compute().shape[0] - out.compute().shape[0]))"
      ],
      "execution_count": 92,
      "outputs": [
        {
          "output_type": "stream",
          "text": [
            "Existen 32200528 registros en los que la duracion registrada es diferente a la calculada\n"
          ],
          "name": "stdout"
        }
      ]
    },
    {
      "cell_type": "code",
      "metadata": {
        "id": "sG31qkLK8_YY",
        "colab_type": "code",
        "outputId": "8e171dc0-745b-40b8-b0ef-72fad4023c53",
        "colab": {
          "base_uri": "https://localhost:8080/",
          "height": 34
        }
      },
      "source": [
        "datos = dd.read_csv(\"/Users/enriquedorantes/ig2/trip_data/*.csv\", usecols=[\"pickup_datetime\", \"dropoff_datetime\"])\n",
        "datos[\"pickup_datetime\"] = dd.to_datetime( datos[\"pickup_datetime\"] )\n",
        "datos[\"dropoff_datetime\"] = dd.to_datetime( datos[\"dropoff_datetime\"] )\n",
        "datos[\"duracion\"] = datos[\"dropoff_datetime\"] - datos[\"pickup_datetime\"]\n",
        "datos[\"duracion\"] = datos[\"duracion\"].dt.total_seconds()\n",
        "viajesLargos = datos[(datos[\"duracion\"] > 1200)]\n",
        "print(\"Existen {} viajes largos en los datos\".format(viajesLargos.compute().shape[0]))"
      ],
      "execution_count": 94,
      "outputs": [
        {
          "output_type": "stream",
          "text": [
            "Existen 13222663 viajes largos en los datos\n"
          ],
          "name": "stdout"
        }
      ]
    },
    {
      "cell_type": "markdown",
      "metadata": {
        "id": "luL3bhSNCuGw",
        "colab_type": "text"
      },
      "source": [
        "#7.- Contar el numero de viajes largos en cada archivo\n",
        "\n",
        "Respuesta:\n",
        "\n",
        "* Existen 860775 viajes largos en el archivo 1\n",
        "* Existen 883053 viajes largos en el archivo 2\n",
        "* Existen 1051929 viajes largos en el archivo 3\n",
        "* Existen 1116051 viajes largos en el archivo 4\n",
        "* Existen 1270020 viajes largos en el archivo 5\n",
        "* Existen 1185026 viajes largos en el archivo 6\n",
        "* Existen 1024485 viajes largos en el archivo 7\n",
        "* Existen 1002018 viajes largos en el archivo 8\n",
        "* Existen 1193126 viajes largos en el archivo 9\n",
        "* Existen 1265712 viajes largos en el archivo 10\n",
        "* Existen 1175222 viajes largos en el archivo 11\n",
        "* Existen 1195246 viajes largos en el archivo 12"
      ]
    },
    {
      "cell_type": "code",
      "metadata": {
        "id": "W-TTNAbkCxVT",
        "colab_type": "code",
        "colab": {}
      },
      "source": [
        "import dask.dataframe as dd"
      ],
      "execution_count": 0,
      "outputs": []
    },
    {
      "cell_type": "code",
      "metadata": {
        "id": "WO3KuQMwDEQw",
        "colab_type": "code",
        "outputId": "5a05df21-40f0-4a9b-eb67-11c17bd16a23",
        "colab": {
          "base_uri": "https://localhost:8080/",
          "height": 221
        }
      },
      "source": [
        "plantilla = \"/Users/enriquedorantes/ig2/trip_data/limpio_trip_data_{}.csv\"\n",
        "for x in range(1,13):\n",
        "  datos = dd.read_csv(plantilla.format(x), usecols=[\"pickup_datetime\", \"dropoff_datetime\"])\n",
        "  datos[\"pickup_datetime\"] = dd.to_datetime( datos[\"pickup_datetime\"] )\n",
        "  datos[\"dropoff_datetime\"] = dd.to_datetime( datos[\"dropoff_datetime\"] )\n",
        "  datos[\"duracion\"] = datos[\"dropoff_datetime\"] - datos[\"pickup_datetime\"]\n",
        "  datos[\"duracion\"] = datos[\"duracion\"].dt.total_seconds()\n",
        "  viajesLargos = datos[(datos[\"duracion\"] > 1200)]\n",
        "  print(\"Existen {} viajes largos en el archivo {}\".format(viajesLargos.compute().shape[0], x))"
      ],
      "execution_count": 98,
      "outputs": [
        {
          "output_type": "stream",
          "text": [
            "Existen 860775 viajes largos en el archivo 1\n",
            "Existen 883053 viajes largos en el archivo 2\n",
            "Existen 1051929 viajes largos en el archivo 3\n",
            "Existen 1116051 viajes largos en el archivo 4\n",
            "Existen 1270020 viajes largos en el archivo 5\n",
            "Existen 1185026 viajes largos en el archivo 6\n",
            "Existen 1024485 viajes largos en el archivo 7\n",
            "Existen 1002018 viajes largos en el archivo 8\n",
            "Existen 1193126 viajes largos en el archivo 9\n",
            "Existen 1265712 viajes largos en el archivo 10\n",
            "Existen 1175222 viajes largos en el archivo 11\n",
            "Existen 1195246 viajes largos en el archivo 12\n"
          ],
          "name": "stdout"
        }
      ]
    },
    {
      "cell_type": "markdown",
      "metadata": {
        "id": "TOy2LNYdFfa-",
        "colab_type": "text"
      },
      "source": [
        "#8.- De los viajes largos.. \n",
        "\n",
        "* identificar el numero de taxis diferentes (la columna medallion contiene un numeroque identificada a cada uno de los vehiculos). \n",
        "* Que vehiculos son los que mas viajes realizan en cada mes? \n",
        "* Son el mismo vehiculo?\n",
        "\n",
        "Respuesta:\n",
        "\n",
        "Se repiten 10 taxis en los top 10  de los 12 archivos con 12 viajes:\n",
        "\n",
        "* DAF57CF25F00457CC6077CD628EC71AC  --------- frecuencia:  12\n",
        "* 2344ACDBE31A22CED6B7782FB8E6960B  --------- frecuencia:  12\n",
        "* 89AC2013723DAC319A06BB59B812F546  --------- frecuencia:  12\n",
        "* FB30B64440B4A7B8DBA9903C7598AD90  --------- frecuencia:  12\n",
        "* 62A9741FAFBF7A57E1E3AB673529B45E   --------- frecuencia:   12\n",
        "* F9B3A00E6DDCA4F8BF2560DFF36B9E91  --------- frecuencia:  12\n",
        "* 1E7C1EB194CCFD58634305DBE0588B85  --------- frecuencia:  12\n",
        "* 291470C747FCEEEB97C6A2CBB46A46AF   --------- frecuencia:   12\n",
        "* D07675FDBF681426B66848DA4D3E6780  --------- frecuencia:   12\n",
        "* 89CBEA6E90D9A967338614180FE2A826   --------- frecuencia:  12\n",
        "\n",
        "\n",
        "Los top 10 de los taxis con mas viajes se encuentra en la salida de la siguiente celda\n"
      ]
    },
    {
      "cell_type": "code",
      "metadata": {
        "id": "T8QzrJpZRsFO",
        "colab_type": "code",
        "colab": {}
      },
      "source": [
        "import pandas as pd \n",
        "import dask.dataframe as dd"
      ],
      "execution_count": 0,
      "outputs": []
    },
    {
      "cell_type": "code",
      "metadata": {
        "id": "nt8Nk9fuFn4t",
        "colab_type": "code",
        "outputId": "527b5535-aeca-4e06-dd88-a1fda070fc03",
        "colab": {
          "base_uri": "https://localhost:8080/",
          "height": 2907
        }
      },
      "source": [
        "df = pd.DataFrame(columns=[\"medallon\", \"frecuencia\"])\n",
        "\n",
        "for x in range(1,13):\n",
        "  datos = dd.read_csv(\"/Users/enriquedorantes/ig2/trip_data/*.csv\".format(x), usecols=[\"medallion\", \"pickup_datetime\", \"dropoff_datetime\"])\n",
        "  datos[\"pickup_datetime\"] = dd.to_datetime( datos[\"pickup_datetime\"] )\n",
        "  datos[\"dropoff_datetime\"] = dd.to_datetime( datos[\"dropoff_datetime\"] )\n",
        "  datos[\"duracion\"] = datos[\"dropoff_datetime\"] - datos[\"pickup_datetime\"]\n",
        "  datos[\"duracion\"] = datos[\"duracion\"].dt.total_seconds()\n",
        "  viajesLargos = datos[(datos[\"duracion\"] > 1200)]\n",
        "  top = viajesLargos[\"medallion\"].value_counts().reset_index()\n",
        "  top.columns = [\"medallon\", \"frecuencia\"]\n",
        "  print(\"\\n TOP 10 de taxis en mes {}\".format(x))\n",
        "  t = top.compute()[:10]\n",
        "  df = pd.concat([df, t])\n",
        "  print(t)\n",
        "\n",
        "print(\"\\n Frecuencia del top de taxis en los 4 meses \\n\")\n",
        "print(df[\"medallon\"].value_counts())"
      ],
      "execution_count": 102,
      "outputs": [
        {
          "output_type": "stream",
          "text": [
            "\n",
            " TOP 10 de taxis en mes 1\n"
          ],
          "name": "stdout"
        },
        {
          "output_type": "stream",
          "text": [
            "/Library/Frameworks/Python.framework/Versions/3.7/lib/python3.7/site-packages/pandas/core/ops.py:1649: FutureWarning: elementwise comparison failed; returning scalar instead, but in the future will perform elementwise comparison\n",
            "  result = method(y)\n"
          ],
          "name": "stderr"
        },
        {
          "output_type": "stream",
          "text": [
            "                           medallon  frecuencia\n",
            "0  DAF57CF25F00457CC6077CD628EC71AC        3094\n",
            "1  2344ACDBE31A22CED6B7782FB8E6960B        3070\n",
            "2  1E7C1EB194CCFD58634305DBE0588B85        3066\n",
            "3  F9B3A00E6DDCA4F8BF2560DFF36B9E91        3061\n",
            "4  62A9741FAFBF7A57E1E3AB673529B45E        3019\n",
            "5  89CBEA6E90D9A967338614180FE2A826        2984\n",
            "6  89AC2013723DAC319A06BB59B812F546        2984\n",
            "7  FB30B64440B4A7B8DBA9903C7598AD90        2963\n",
            "8  291470C747FCEEEB97C6A2CBB46A46AF        2942\n",
            "9  D07675FDBF681426B66848DA4D3E6780        2928\n",
            "\n",
            " TOP 10 de taxis en mes 2\n"
          ],
          "name": "stdout"
        },
        {
          "output_type": "stream",
          "text": [
            "/Library/Frameworks/Python.framework/Versions/3.7/lib/python3.7/site-packages/pandas/core/ops.py:1649: FutureWarning: elementwise comparison failed; returning scalar instead, but in the future will perform elementwise comparison\n",
            "  result = method(y)\n"
          ],
          "name": "stderr"
        },
        {
          "output_type": "stream",
          "text": [
            "                           medallon  frecuencia\n",
            "0  DAF57CF25F00457CC6077CD628EC71AC        3094\n",
            "1  2344ACDBE31A22CED6B7782FB8E6960B        3070\n",
            "2  1E7C1EB194CCFD58634305DBE0588B85        3066\n",
            "3  F9B3A00E6DDCA4F8BF2560DFF36B9E91        3061\n",
            "4  62A9741FAFBF7A57E1E3AB673529B45E        3019\n",
            "5  89CBEA6E90D9A967338614180FE2A826        2984\n",
            "6  89AC2013723DAC319A06BB59B812F546        2984\n",
            "7  FB30B64440B4A7B8DBA9903C7598AD90        2963\n",
            "8  291470C747FCEEEB97C6A2CBB46A46AF        2942\n",
            "9  D07675FDBF681426B66848DA4D3E6780        2928\n",
            "\n",
            " TOP 10 de taxis en mes 3\n"
          ],
          "name": "stdout"
        },
        {
          "output_type": "stream",
          "text": [
            "/Library/Frameworks/Python.framework/Versions/3.7/lib/python3.7/site-packages/pandas/core/ops.py:1649: FutureWarning: elementwise comparison failed; returning scalar instead, but in the future will perform elementwise comparison\n",
            "  result = method(y)\n"
          ],
          "name": "stderr"
        },
        {
          "output_type": "stream",
          "text": [
            "                           medallon  frecuencia\n",
            "0  DAF57CF25F00457CC6077CD628EC71AC        3094\n",
            "1  2344ACDBE31A22CED6B7782FB8E6960B        3070\n",
            "2  1E7C1EB194CCFD58634305DBE0588B85        3066\n",
            "3  F9B3A00E6DDCA4F8BF2560DFF36B9E91        3061\n",
            "4  62A9741FAFBF7A57E1E3AB673529B45E        3019\n",
            "5  89CBEA6E90D9A967338614180FE2A826        2984\n",
            "6  89AC2013723DAC319A06BB59B812F546        2984\n",
            "7  FB30B64440B4A7B8DBA9903C7598AD90        2963\n",
            "8  291470C747FCEEEB97C6A2CBB46A46AF        2942\n",
            "9  D07675FDBF681426B66848DA4D3E6780        2928\n",
            "\n",
            " TOP 10 de taxis en mes 4\n"
          ],
          "name": "stdout"
        },
        {
          "output_type": "stream",
          "text": [
            "/Library/Frameworks/Python.framework/Versions/3.7/lib/python3.7/site-packages/pandas/core/ops.py:1649: FutureWarning: elementwise comparison failed; returning scalar instead, but in the future will perform elementwise comparison\n",
            "  result = method(y)\n"
          ],
          "name": "stderr"
        },
        {
          "output_type": "stream",
          "text": [
            "                           medallon  frecuencia\n",
            "0  DAF57CF25F00457CC6077CD628EC71AC        3094\n",
            "1  2344ACDBE31A22CED6B7782FB8E6960B        3070\n",
            "2  1E7C1EB194CCFD58634305DBE0588B85        3066\n",
            "3  F9B3A00E6DDCA4F8BF2560DFF36B9E91        3061\n",
            "4  62A9741FAFBF7A57E1E3AB673529B45E        3019\n",
            "5  89CBEA6E90D9A967338614180FE2A826        2984\n",
            "6  89AC2013723DAC319A06BB59B812F546        2984\n",
            "7  FB30B64440B4A7B8DBA9903C7598AD90        2963\n",
            "8  291470C747FCEEEB97C6A2CBB46A46AF        2942\n",
            "9  D07675FDBF681426B66848DA4D3E6780        2928\n",
            "\n",
            " TOP 10 de taxis en mes 5\n"
          ],
          "name": "stdout"
        },
        {
          "output_type": "stream",
          "text": [
            "/Library/Frameworks/Python.framework/Versions/3.7/lib/python3.7/site-packages/pandas/core/ops.py:1649: FutureWarning: elementwise comparison failed; returning scalar instead, but in the future will perform elementwise comparison\n",
            "  result = method(y)\n"
          ],
          "name": "stderr"
        },
        {
          "output_type": "stream",
          "text": [
            "                           medallon  frecuencia\n",
            "0  DAF57CF25F00457CC6077CD628EC71AC        3094\n",
            "1  2344ACDBE31A22CED6B7782FB8E6960B        3070\n",
            "2  1E7C1EB194CCFD58634305DBE0588B85        3066\n",
            "3  F9B3A00E6DDCA4F8BF2560DFF36B9E91        3061\n",
            "4  62A9741FAFBF7A57E1E3AB673529B45E        3019\n",
            "5  89CBEA6E90D9A967338614180FE2A826        2984\n",
            "6  89AC2013723DAC319A06BB59B812F546        2984\n",
            "7  FB30B64440B4A7B8DBA9903C7598AD90        2963\n",
            "8  291470C747FCEEEB97C6A2CBB46A46AF        2942\n",
            "9  D07675FDBF681426B66848DA4D3E6780        2928\n",
            "\n",
            " TOP 10 de taxis en mes 6\n"
          ],
          "name": "stdout"
        },
        {
          "output_type": "stream",
          "text": [
            "/Library/Frameworks/Python.framework/Versions/3.7/lib/python3.7/site-packages/pandas/core/ops.py:1649: FutureWarning: elementwise comparison failed; returning scalar instead, but in the future will perform elementwise comparison\n",
            "  result = method(y)\n"
          ],
          "name": "stderr"
        },
        {
          "output_type": "stream",
          "text": [
            "                           medallon  frecuencia\n",
            "0  DAF57CF25F00457CC6077CD628EC71AC        3094\n",
            "1  2344ACDBE31A22CED6B7782FB8E6960B        3070\n",
            "2  1E7C1EB194CCFD58634305DBE0588B85        3066\n",
            "3  F9B3A00E6DDCA4F8BF2560DFF36B9E91        3061\n",
            "4  62A9741FAFBF7A57E1E3AB673529B45E        3019\n",
            "5  89CBEA6E90D9A967338614180FE2A826        2984\n",
            "6  89AC2013723DAC319A06BB59B812F546        2984\n",
            "7  FB30B64440B4A7B8DBA9903C7598AD90        2963\n",
            "8  291470C747FCEEEB97C6A2CBB46A46AF        2942\n",
            "9  D07675FDBF681426B66848DA4D3E6780        2928\n",
            "\n",
            " TOP 10 de taxis en mes 7\n"
          ],
          "name": "stdout"
        },
        {
          "output_type": "stream",
          "text": [
            "/Library/Frameworks/Python.framework/Versions/3.7/lib/python3.7/site-packages/pandas/core/ops.py:1649: FutureWarning: elementwise comparison failed; returning scalar instead, but in the future will perform elementwise comparison\n",
            "  result = method(y)\n"
          ],
          "name": "stderr"
        },
        {
          "output_type": "stream",
          "text": [
            "                           medallon  frecuencia\n",
            "0  DAF57CF25F00457CC6077CD628EC71AC        3094\n",
            "1  2344ACDBE31A22CED6B7782FB8E6960B        3070\n",
            "2  1E7C1EB194CCFD58634305DBE0588B85        3066\n",
            "3  F9B3A00E6DDCA4F8BF2560DFF36B9E91        3061\n",
            "4  62A9741FAFBF7A57E1E3AB673529B45E        3019\n",
            "5  89CBEA6E90D9A967338614180FE2A826        2984\n",
            "6  89AC2013723DAC319A06BB59B812F546        2984\n",
            "7  FB30B64440B4A7B8DBA9903C7598AD90        2963\n",
            "8  291470C747FCEEEB97C6A2CBB46A46AF        2942\n",
            "9  D07675FDBF681426B66848DA4D3E6780        2928\n",
            "\n",
            " TOP 10 de taxis en mes 8\n"
          ],
          "name": "stdout"
        },
        {
          "output_type": "stream",
          "text": [
            "/Library/Frameworks/Python.framework/Versions/3.7/lib/python3.7/site-packages/pandas/core/ops.py:1649: FutureWarning: elementwise comparison failed; returning scalar instead, but in the future will perform elementwise comparison\n",
            "  result = method(y)\n"
          ],
          "name": "stderr"
        },
        {
          "output_type": "stream",
          "text": [
            "                           medallon  frecuencia\n",
            "0  DAF57CF25F00457CC6077CD628EC71AC        3094\n",
            "1  2344ACDBE31A22CED6B7782FB8E6960B        3070\n",
            "2  1E7C1EB194CCFD58634305DBE0588B85        3066\n",
            "3  F9B3A00E6DDCA4F8BF2560DFF36B9E91        3061\n",
            "4  62A9741FAFBF7A57E1E3AB673529B45E        3019\n",
            "5  89CBEA6E90D9A967338614180FE2A826        2984\n",
            "6  89AC2013723DAC319A06BB59B812F546        2984\n",
            "7  FB30B64440B4A7B8DBA9903C7598AD90        2963\n",
            "8  291470C747FCEEEB97C6A2CBB46A46AF        2942\n",
            "9  D07675FDBF681426B66848DA4D3E6780        2928\n",
            "\n",
            " TOP 10 de taxis en mes 9\n"
          ],
          "name": "stdout"
        },
        {
          "output_type": "stream",
          "text": [
            "/Library/Frameworks/Python.framework/Versions/3.7/lib/python3.7/site-packages/pandas/core/ops.py:1649: FutureWarning: elementwise comparison failed; returning scalar instead, but in the future will perform elementwise comparison\n",
            "  result = method(y)\n"
          ],
          "name": "stderr"
        },
        {
          "output_type": "stream",
          "text": [
            "                           medallon  frecuencia\n",
            "0  DAF57CF25F00457CC6077CD628EC71AC        3094\n",
            "1  2344ACDBE31A22CED6B7782FB8E6960B        3070\n",
            "2  1E7C1EB194CCFD58634305DBE0588B85        3066\n",
            "3  F9B3A00E6DDCA4F8BF2560DFF36B9E91        3061\n",
            "4  62A9741FAFBF7A57E1E3AB673529B45E        3019\n",
            "5  89CBEA6E90D9A967338614180FE2A826        2984\n",
            "6  89AC2013723DAC319A06BB59B812F546        2984\n",
            "7  FB30B64440B4A7B8DBA9903C7598AD90        2963\n",
            "8  291470C747FCEEEB97C6A2CBB46A46AF        2942\n",
            "9  D07675FDBF681426B66848DA4D3E6780        2928\n",
            "\n",
            " TOP 10 de taxis en mes 10\n"
          ],
          "name": "stdout"
        },
        {
          "output_type": "stream",
          "text": [
            "/Library/Frameworks/Python.framework/Versions/3.7/lib/python3.7/site-packages/pandas/core/ops.py:1649: FutureWarning: elementwise comparison failed; returning scalar instead, but in the future will perform elementwise comparison\n",
            "  result = method(y)\n"
          ],
          "name": "stderr"
        },
        {
          "output_type": "stream",
          "text": [
            "                           medallon  frecuencia\n",
            "0  DAF57CF25F00457CC6077CD628EC71AC        3094\n",
            "1  2344ACDBE31A22CED6B7782FB8E6960B        3070\n",
            "2  1E7C1EB194CCFD58634305DBE0588B85        3066\n",
            "3  F9B3A00E6DDCA4F8BF2560DFF36B9E91        3061\n",
            "4  62A9741FAFBF7A57E1E3AB673529B45E        3019\n",
            "5  89CBEA6E90D9A967338614180FE2A826        2984\n",
            "6  89AC2013723DAC319A06BB59B812F546        2984\n",
            "7  FB30B64440B4A7B8DBA9903C7598AD90        2963\n",
            "8  291470C747FCEEEB97C6A2CBB46A46AF        2942\n",
            "9  D07675FDBF681426B66848DA4D3E6780        2928\n",
            "\n",
            " TOP 10 de taxis en mes 11\n"
          ],
          "name": "stdout"
        },
        {
          "output_type": "stream",
          "text": [
            "/Library/Frameworks/Python.framework/Versions/3.7/lib/python3.7/site-packages/pandas/core/ops.py:1649: FutureWarning: elementwise comparison failed; returning scalar instead, but in the future will perform elementwise comparison\n",
            "  result = method(y)\n"
          ],
          "name": "stderr"
        },
        {
          "output_type": "stream",
          "text": [
            "                           medallon  frecuencia\n",
            "0  DAF57CF25F00457CC6077CD628EC71AC        3094\n",
            "1  2344ACDBE31A22CED6B7782FB8E6960B        3070\n",
            "2  1E7C1EB194CCFD58634305DBE0588B85        3066\n",
            "3  F9B3A00E6DDCA4F8BF2560DFF36B9E91        3061\n",
            "4  62A9741FAFBF7A57E1E3AB673529B45E        3019\n",
            "5  89CBEA6E90D9A967338614180FE2A826        2984\n",
            "6  89AC2013723DAC319A06BB59B812F546        2984\n",
            "7  FB30B64440B4A7B8DBA9903C7598AD90        2963\n",
            "8  291470C747FCEEEB97C6A2CBB46A46AF        2942\n",
            "9  D07675FDBF681426B66848DA4D3E6780        2928\n",
            "\n",
            " TOP 10 de taxis en mes 12\n"
          ],
          "name": "stdout"
        },
        {
          "output_type": "stream",
          "text": [
            "/Library/Frameworks/Python.framework/Versions/3.7/lib/python3.7/site-packages/pandas/core/ops.py:1649: FutureWarning: elementwise comparison failed; returning scalar instead, but in the future will perform elementwise comparison\n",
            "  result = method(y)\n"
          ],
          "name": "stderr"
        },
        {
          "output_type": "stream",
          "text": [
            "                           medallon  frecuencia\n",
            "0  DAF57CF25F00457CC6077CD628EC71AC        3094\n",
            "1  2344ACDBE31A22CED6B7782FB8E6960B        3070\n",
            "2  1E7C1EB194CCFD58634305DBE0588B85        3066\n",
            "3  F9B3A00E6DDCA4F8BF2560DFF36B9E91        3061\n",
            "4  62A9741FAFBF7A57E1E3AB673529B45E        3019\n",
            "5  89CBEA6E90D9A967338614180FE2A826        2984\n",
            "6  89AC2013723DAC319A06BB59B812F546        2984\n",
            "7  FB30B64440B4A7B8DBA9903C7598AD90        2963\n",
            "8  291470C747FCEEEB97C6A2CBB46A46AF        2942\n",
            "9  D07675FDBF681426B66848DA4D3E6780        2928\n",
            "\n",
            " Frecuencia del top de taxis en los 4 meses \n",
            "\n",
            "DAF57CF25F00457CC6077CD628EC71AC    12\n",
            "2344ACDBE31A22CED6B7782FB8E6960B    12\n",
            "89AC2013723DAC319A06BB59B812F546    12\n",
            "FB30B64440B4A7B8DBA9903C7598AD90    12\n",
            "62A9741FAFBF7A57E1E3AB673529B45E    12\n",
            "F9B3A00E6DDCA4F8BF2560DFF36B9E91    12\n",
            "1E7C1EB194CCFD58634305DBE0588B85    12\n",
            "291470C747FCEEEB97C6A2CBB46A46AF    12\n",
            "D07675FDBF681426B66848DA4D3E6780    12\n",
            "89CBEA6E90D9A967338614180FE2A826    12\n",
            "Name: medallon, dtype: int64\n"
          ],
          "name": "stdout"
        }
      ]
    },
    {
      "cell_type": "markdown",
      "metadata": {
        "id": "Pv8XdUdUeQms",
        "colab_type": "text"
      },
      "source": [
        "#9.- Hacer una grafica temporal del numero total de pasajeros agregados por dias de la semana y despues por horas del dia. \n",
        "\n",
        "Sugerencia: agregar por el correspondiente periodo temporal y graficar. Que pueden observar de las graficas?"
      ]
    }
  ]
}