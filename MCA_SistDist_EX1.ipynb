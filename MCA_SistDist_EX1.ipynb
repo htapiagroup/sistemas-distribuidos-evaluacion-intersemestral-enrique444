{
  "nbformat": 4,
  "nbformat_minor": 0,
  "metadata": {
    "colab": {
      "name": "MCA_SistDist_EX1.ipynb",
      "version": "0.3.2",
      "provenance": [],
      "collapsed_sections": [
        "jGdQal1pWkRv",
        "h5uML3N0fqvD",
        "nO1oPkqq0m-D",
        "YA07PpvXfhN_",
        "ncgDJO7fNivZ",
        "luL3bhSNCuGw",
        "TOy2LNYdFfa-"
      ],
      "include_colab_link": true
    },
    "kernelspec": {
      "name": "python3",
      "display_name": "Python 3"
    }
  },
  "cells": [
    {
      "cell_type": "markdown",
      "metadata": {
        "id": "view-in-github",
        "colab_type": "text"
      },
      "source": [
        "<a href=\"https://colab.research.google.com/github/htapiagroup/sistemas-distribuidos-evaluacion-intersemestral-enrique444/blob/master/MCA_SistDist_EX1.ipynb\" target=\"_parent\"><img src=\"https://colab.research.google.com/assets/colab-badge.svg\" alt=\"Open In Colab\"/></a>"
      ]
    },
    {
      "cell_type": "markdown",
      "metadata": {
        "id": "_m7gk0G7SIhG",
        "colab_type": "text"
      },
      "source": [
        "#Pedro Enrique Virgen Dorantes\n"
      ]
    },
    {
      "cell_type": "markdown",
      "metadata": {
        "id": "jGdQal1pWkRv",
        "colab_type": "text"
      },
      "source": [
        "## 1 y 2.- Adquirir los datos y descomprimirlos."
      ]
    },
    {
      "cell_type": "code",
      "metadata": {
        "id": "TBERBFjOLoKE",
        "colab_type": "code",
        "colab": {}
      },
      "source": [
        "!wget https://archive.org/download/nycTaxiTripData2013/trip_data.7z"
      ],
      "execution_count": 0,
      "outputs": []
    },
    {
      "cell_type": "code",
      "metadata": {
        "id": "_aIAFW6Caqan",
        "colab_type": "code",
        "colab": {}
      },
      "source": [
        "!7z x trip_data.7z -o/content trip_data_1.csv\n",
        "!7z x trip_data.7z -o/content trip_data_2.csv\n",
        "!7z x trip_data.7z -o/content trip_data_3.csv\n",
        "!7z x trip_data.7z -o/content trip_data_4.csv"
      ],
      "execution_count": 0,
      "outputs": []
    },
    {
      "cell_type": "code",
      "metadata": {
        "id": "jUnq8fgZfbo-",
        "colab_type": "code",
        "colab": {}
      },
      "source": [
        "ls -la"
      ],
      "execution_count": 0,
      "outputs": []
    },
    {
      "cell_type": "code",
      "metadata": {
        "id": "o_TxcISKST1B",
        "colab_type": "code",
        "colab": {}
      },
      "source": [
        "rm trip_data.7z"
      ],
      "execution_count": 0,
      "outputs": []
    },
    {
      "cell_type": "markdown",
      "metadata": {
        "id": "h5uML3N0fqvD",
        "colab_type": "text"
      },
      "source": [
        "##3.- Responder las preguntas\n",
        "\n",
        "\n",
        "1.   Cuantas columnas contiene cada archivo de datos descomprimido\n",
        "2.   Cuantos renglones tiene cada archivo\n",
        "\n",
        "Respuesta:\n",
        "\n",
        "* Archivo 1 tiene 14776615 filas y 14 columnas\n",
        "* Archivo 2 tiene 13990176 filas y 14 columnas\n",
        "* Archivo 3 tiene 15749228 filas y 14 columnas\n",
        "* Archivo 4 tiene 15100468 filas y 14 columnas\n",
        "\n",
        "La respuesta fué obtenida ejecutando el codigo de las siguientes 2 celdas:"
      ]
    },
    {
      "cell_type": "code",
      "metadata": {
        "id": "YJ-PBBUKf21n",
        "colab_type": "code",
        "colab": {}
      },
      "source": [
        "import pandas as pd\n",
        "import dask.dataframe as dd"
      ],
      "execution_count": 0,
      "outputs": []
    },
    {
      "cell_type": "code",
      "metadata": {
        "id": "5ZCMB8c6pOi2",
        "colab_type": "code",
        "outputId": "846e59e4-3c8b-4e8e-c118-4b0fa4f5d58b",
        "colab": {
          "base_uri": "https://localhost:8080/",
          "height": 275
        }
      },
      "source": [
        "plantilla = \"trip_data_{}.csv\"\n",
        "for x in range(1, 5):\n",
        "  df_temp = dd.read_csv(plantilla.format(x))\n",
        "  print(df_temp.compute().shape)\n",
        "  print(\"------------------------------\")"
      ],
      "execution_count": 0,
      "outputs": [
        {
          "output_type": "stream",
          "text": [
            "(14776615, 14)\n",
            "------------------------------\n"
          ],
          "name": "stdout"
        },
        {
          "output_type": "stream",
          "text": [
            "/usr/local/lib/python3.6/dist-packages/dask/core.py:118: DtypeWarning: Columns (4) have mixed types. Specify dtype option on import or set low_memory=False.\n",
            "  args2 = [_execute_task(a, cache) for a in args]\n"
          ],
          "name": "stderr"
        },
        {
          "output_type": "stream",
          "text": [
            "(13990176, 14)\n",
            "------------------------------\n"
          ],
          "name": "stdout"
        },
        {
          "output_type": "stream",
          "text": [
            "/usr/local/lib/python3.6/dist-packages/dask/core.py:118: DtypeWarning: Columns (4) have mixed types. Specify dtype option on import or set low_memory=False.\n",
            "  args2 = [_execute_task(a, cache) for a in args]\n"
          ],
          "name": "stderr"
        },
        {
          "output_type": "stream",
          "text": [
            "(15749228, 14)\n",
            "------------------------------\n"
          ],
          "name": "stdout"
        },
        {
          "output_type": "stream",
          "text": [
            "/usr/local/lib/python3.6/dist-packages/dask/core.py:118: DtypeWarning: Columns (4) have mixed types. Specify dtype option on import or set low_memory=False.\n",
            "  args2 = [_execute_task(a, cache) for a in args]\n"
          ],
          "name": "stderr"
        },
        {
          "output_type": "stream",
          "text": [
            "(15100468, 14)\n",
            "------------------------------\n"
          ],
          "name": "stdout"
        }
      ]
    },
    {
      "cell_type": "markdown",
      "metadata": {
        "id": "nO1oPkqq0m-D",
        "colab_type": "text"
      },
      "source": [
        "##4.- Identificar si existen renglones con errores en los datos, por ejemplo si hay columnas de mas (o de menos), si hay campos vacios, etc. Si se detectan renglones con errores:\n",
        "\n",
        "\n",
        "1.   Indicar claramente cuantos son los renglones con errores y a que archivos corresponden\n",
        "2.   Crear un nuevo conjunto de datos con los errores eliminados\n",
        "\n",
        "Respuesta:\n",
        "\n",
        "* El archivo 1 tiene: \n",
        "** 7326207 renglones con errores de datos faltantes\n",
        "** 140165 errores de coordenadas fuera del cuadro de NY\n",
        "** 33 errores de número pasajeros\n",
        "\n",
        "* El archivo 2 tiene: \n",
        "** 6952551 renglones con errores de datos faltantes\n",
        "** 137878 errores de coordenadas fuera del cuadro de NY\n",
        "** 55 errores de número pasajeros\n",
        "\n",
        "* El archivo 3 tiene: \n",
        "** Errores en el nombre de sus columnas (un espacio al principio)\n",
        "** 7819244 renglones con errores de datos faltantes\n",
        "** 157562 errores de coordenadas fuera del cuadro de NY\n",
        "** 64 errores de número pasajeros\n",
        "\n",
        "* El archivo 4 tiene: \n",
        "** Errores en el nombre de sus columnas (un espacio al principio)\n",
        "** 7518657 renglones con errores de datos faltantes\n",
        "** 150954 errores de coordenadas fuera del cuadro de NY\n",
        "** 44 errores de número pasajeros\n",
        "\n",
        "\n",
        "Se crearon archivos  nuevos sin los datos con errores encontrados:\n",
        "* limpio_trip_data_1.csv\n",
        "* limpio_trip_data_2.csv\n",
        "* limpio_trip_data_3.csv\n",
        "* limpio_trip_data_4.csv\n",
        "\n",
        "La respuesta fué obtenida ejecutando el codigo de las siguientes 8 celdas:"
      ]
    },
    {
      "cell_type": "code",
      "metadata": {
        "id": "5LluBwZB5C-h",
        "colab_type": "code",
        "outputId": "9d6a5d5f-1e72-4ad0-f14e-4e6ae0f3ffaf",
        "colab": {
          "base_uri": "https://localhost:8080/",
          "height": 68
        }
      },
      "source": [
        "missing_values = [\"\", \" \", \"-\", \"_\"]\n",
        "df_temp = pd.read_csv(\"trip_data_1.csv\", na_values = missing_values)\n",
        "datosConErrores = df_temp.isna()\n",
        "errores = datosConErrores[datosConErrores.isin([True])].dropna(how=\"all\")\n",
        "print(\"El archivo 1 tiene {} renglones con errores de datos faltantes\".format(errores.shape[0]))\n",
        "df_temp = df_temp.drop(errores.index)\n",
        "antes = df_temp.shape[0]\n",
        "df_temp = df_temp[(df_temp[\"pickup_longitude\"] > -74.253842) & (df_temp[\"pickup_longitude\"] <  -73.709271) & (df_temp[\"pickup_latitude\"] > 40.495089) & (df_temp[\"pickup_latitude\"] < 40.910281)]\n",
        "print(\"El archivo 1 tiene {} errores de coordenadas\".format((antes - df_temp.shape[0])))\n",
        "antes = df_temp.shape[0]\n",
        "df_temp = df_temp[(df_temp[\"passenger_count\"] > 0) & (df_temp[\"passenger_count\"] < 7)]\n",
        "print(\"El archivo 1 tiene {} errores de pasajeros\".format((antes - df_temp.shape[0])))\n",
        "df_temp.to_csv(\"limpio_trip_data_1.csv\", sep=',', encoding='utf-8')"
      ],
      "execution_count": 0,
      "outputs": [
        {
          "output_type": "stream",
          "text": [
            "El archivo 1 tiene 7326207 renglones con errores de datos faltantes\n",
            "El archivo 1 tiene 140165 errores de coordenadas\n",
            "El archivo 1 tiene 33 errores de pasajeros\n"
          ],
          "name": "stdout"
        }
      ]
    },
    {
      "cell_type": "code",
      "metadata": {
        "id": "6kIjJdR6C_LA",
        "colab_type": "code",
        "colab": {}
      },
      "source": [
        "rm trip_data_1.csv"
      ],
      "execution_count": 0,
      "outputs": []
    },
    {
      "cell_type": "code",
      "metadata": {
        "id": "aeqNhfXzDzG0",
        "colab_type": "code",
        "outputId": "384cdde4-bc62-485e-9bc7-d1d84af54542",
        "colab": {
          "base_uri": "https://localhost:8080/",
          "height": 122
        }
      },
      "source": [
        "missing_values = [\"\", \" \", \"-\", \"_\"]\n",
        "df_temp = pd.read_csv(\"trip_data_2.csv\", na_values = missing_values)\n",
        "datosConErrores = df_temp.isna()\n",
        "errores = datosConErrores[datosConErrores.isin([True])].dropna(how=\"all\")\n",
        "print(\"El archivo 2 tiene {} renglones con errores de datos faltantes\".format(errores.shape[0]))\n",
        "df_temp = df_temp.drop(errores.index)\n",
        "antes = df_temp.shape[0]\n",
        "df_temp = df_temp[(df_temp[\"pickup_longitude\"] > -74.253842) & (df_temp[\"pickup_longitude\"] <  -73.709271) & (df_temp[\"pickup_latitude\"] > 40.495089) & (df_temp[\"pickup_latitude\"] < 40.910281)]\n",
        "print(\"El archivo 2 tiene {} errores de coordenadas\".format((antes - df_temp.shape[0])))\n",
        "antes = df_temp.shape[0]\n",
        "df_temp = df_temp[(df_temp[\"passenger_count\"] > 0) & (df_temp[\"passenger_count\"] < 7)]\n",
        "print(\"El archivo 2 tiene {} errores de pasajeros\".format((antes - df_temp.shape[0])))\n",
        "df_temp.to_csv(\"limpio_trip_data_2.csv\", sep=',', encoding='utf-8')"
      ],
      "execution_count": 0,
      "outputs": [
        {
          "output_type": "stream",
          "text": [
            "/usr/local/lib/python3.6/dist-packages/IPython/core/interactiveshell.py:2718: DtypeWarning: Columns (4) have mixed types. Specify dtype option on import or set low_memory=False.\n",
            "  interactivity=interactivity, compiler=compiler, result=result)\n"
          ],
          "name": "stderr"
        },
        {
          "output_type": "stream",
          "text": [
            "El archivo 2 tiene 6952551 renglones con errores de datos faltantes\n",
            "El archivo 2 tiene 137878 errores de coordenadas\n",
            "El archivo 2 tiene 55 errores de pasajeros\n"
          ],
          "name": "stdout"
        }
      ]
    },
    {
      "cell_type": "code",
      "metadata": {
        "id": "AnawLIHND4tj",
        "colab_type": "code",
        "colab": {}
      },
      "source": [
        "rm trip_data_2.csv"
      ],
      "execution_count": 0,
      "outputs": []
    },
    {
      "cell_type": "code",
      "metadata": {
        "id": "VUn1rfieFM1h",
        "colab_type": "code",
        "outputId": "c91906a6-95fc-4b4f-8999-c1a5b44196bc",
        "colab": {
          "base_uri": "https://localhost:8080/",
          "height": 122
        }
      },
      "source": [
        "missing_values = [\"\", \" \", \"-\", \"_\"]\n",
        "df_temp = pd.read_csv(\"trip_data_3.csv\", na_values = missing_values)\n",
        "datosConErrores = df_temp.isna()\n",
        "errores = datosConErrores[datosConErrores.isin([True])].dropna(how=\"all\")\n",
        "print(\"El archivo 3 tiene {} renglones con errores de datos faltantes\".format(errores.shape[0]))\n",
        "df_temp = df_temp.drop(errores.index)\n",
        "antes = df_temp.shape[0]\n",
        "df_temp.columns = df_temp.columns.str.strip()\n",
        "df_temp = df_temp[(df_temp[\"pickup_longitude\"] > -74.253842) & (df_temp[\"pickup_longitude\"] <  -73.709271) & (df_temp[\"pickup_latitude\"] > 40.495089) & (df_temp[\"pickup_latitude\"] < 40.910281)]\n",
        "print(\"El archivo 3 tiene {} errores de coordenadas\".format((antes - df_temp.shape[0])))\n",
        "antes = df_temp.shape[0]\n",
        "df_temp = df_temp[(df_temp[\"passenger_count\"] > 0) & (df_temp[\"passenger_count\"] < 7)]\n",
        "print(\"El archivo 3 tiene {} errores de pasajeros\".format((antes - df_temp.shape[0])))\n",
        "df_temp.to_csv(\"limpio_trip_data_3.csv\", sep=',', encoding='utf-8')"
      ],
      "execution_count": 0,
      "outputs": [
        {
          "output_type": "stream",
          "text": [
            "/usr/local/lib/python3.6/dist-packages/IPython/core/interactiveshell.py:2718: DtypeWarning: Columns (4) have mixed types. Specify dtype option on import or set low_memory=False.\n",
            "  interactivity=interactivity, compiler=compiler, result=result)\n"
          ],
          "name": "stderr"
        },
        {
          "output_type": "stream",
          "text": [
            "El archivo 3 tiene 7819244 renglones con errores de datos faltantes\n",
            "El archivo 3 tiene 157562 errores de coordenadas\n",
            "El archivo 3 tiene 64 errores de pasajeros\n"
          ],
          "name": "stdout"
        }
      ]
    },
    {
      "cell_type": "code",
      "metadata": {
        "id": "MfvqNbbkFTS6",
        "colab_type": "code",
        "colab": {}
      },
      "source": [
        "rm trip_data_3.csv"
      ],
      "execution_count": 0,
      "outputs": []
    },
    {
      "cell_type": "code",
      "metadata": {
        "id": "d-xnphRkJAqA",
        "colab_type": "code",
        "outputId": "e9c7528b-f18d-45e3-9fca-4a9d581bb6af",
        "colab": {
          "base_uri": "https://localhost:8080/",
          "height": 122
        }
      },
      "source": [
        "missing_values = [\"\", \" \", \"-\", \"_\"]\n",
        "df_temp = pd.read_csv(\"trip_data_4.csv\", na_values = missing_values)\n",
        "datosConErrores = df_temp.isna()\n",
        "errores = datosConErrores[datosConErrores.isin([True])].dropna(how=\"all\")\n",
        "print(\"El archivo 4 tiene {} renglones con errores de datos faltantes\".format(errores.shape[0]))\n",
        "df_temp = df_temp.drop(errores.index)\n",
        "antes = df_temp.shape[0]\n",
        "df_temp.columns = df_temp.columns.str.strip()\n",
        "df_temp = df_temp[(df_temp[\"pickup_longitude\"] > -74.253842) & (df_temp[\"pickup_longitude\"] <  -73.709271) & (df_temp[\"pickup_latitude\"] > 40.495089) & (df_temp[\"pickup_latitude\"] < 40.910281)]\n",
        "print(\"El archivo 4 tiene {} errores de coordenadas\".format((antes - df_temp.shape[0])))\n",
        "antes = df_temp.shape[0]\n",
        "df_temp = df_temp[(df_temp[\"passenger_count\"] > 0) & (df_temp[\"passenger_count\"] < 7)]\n",
        "print(\"El archivo 4 tiene {} errores de pasajeros\".format((antes - df_temp.shape[0])))\n",
        "df_temp.to_csv(\"limpio_trip_data_4.csv\", sep=',', encoding='utf-8')\n"
      ],
      "execution_count": 0,
      "outputs": [
        {
          "output_type": "stream",
          "text": [
            "/usr/local/lib/python3.6/dist-packages/IPython/core/interactiveshell.py:2718: DtypeWarning: Columns (4) have mixed types. Specify dtype option on import or set low_memory=False.\n",
            "  interactivity=interactivity, compiler=compiler, result=result)\n"
          ],
          "name": "stderr"
        },
        {
          "output_type": "stream",
          "text": [
            "El archivo 4 tiene 7518657 renglones con errores de datos faltantes\n",
            "El archivo 4 tiene 150954 errores de coordenadas\n",
            "El archivo 4 tiene 44 errores de pasajeros\n"
          ],
          "name": "stdout"
        }
      ]
    },
    {
      "cell_type": "code",
      "metadata": {
        "id": "19RMDajE5BNJ",
        "colab_type": "code",
        "colab": {}
      },
      "source": [
        "rm trip_data_4.csv"
      ],
      "execution_count": 0,
      "outputs": []
    },
    {
      "cell_type": "code",
      "metadata": {
        "id": "aUS4g1UV_lsz",
        "colab_type": "code",
        "colab": {}
      },
      "source": [
        "#df_temp['trip_distance'].value_counts()\n",
        "#df_temp.loc[ 14739051 , : ]"
      ],
      "execution_count": 0,
      "outputs": []
    },
    {
      "cell_type": "markdown",
      "metadata": {
        "id": "YA07PpvXfhN_",
        "colab_type": "text"
      },
      "source": [
        "## 5.- Crear un DataFrame usando la libreria pandas\n",
        "\n",
        "Responder lo siguiente:\n",
        "\n",
        "* Indicar el tiempo en segundos, que tarda la libreria pandas en leer un archivo a un DataFrame.\n",
        "* Cual es la huella de memoria del proceso usado para generar el objeto DataFrame\n",
        "* Cuanta memoria del sistema se usa para crear el objeto anterior\n",
        "* Indicar el tiempo que tarda pandas en obtener el promedio de la distancia de viaje (trip_distance)\n",
        "\n",
        "Respuesta:\n",
        "\n",
        "* Pandas tardó 103.3 segundos en leer el archivo.\n",
        "* La huella de memoria es 910.65 mb.\n",
        "* Se usa 1.5+ GB de memoria para crear el objeto.\n",
        "* El tiempo que toma en obtener el promedio es 33.91 ms\n",
        "\n",
        "La respuesta fué obtenida ejecutando el codigo de las siguientes 5 celdas:"
      ]
    },
    {
      "cell_type": "code",
      "metadata": {
        "id": "rJWH_yh7fjZM",
        "colab_type": "code",
        "colab": {}
      },
      "source": [
        "import time\n",
        "import psutil, os"
      ],
      "execution_count": 0,
      "outputs": []
    },
    {
      "cell_type": "code",
      "metadata": {
        "id": "VtvsIFuJiB8F",
        "colab_type": "code",
        "colab": {}
      },
      "source": [
        "def huella_de_memoria():\n",
        "  '''Regresa la memoria usada por un proceso en Python'''\n",
        "  mem = psutil.Process(os.getpid()).memory_info().rss\n",
        "  return(mem / 1024**2)"
      ],
      "execution_count": 0,
      "outputs": []
    },
    {
      "cell_type": "code",
      "metadata": {
        "id": "uXW4poGug1UX",
        "colab_type": "code",
        "outputId": "de6d8bc9-b9eb-43a1-f3cb-44ecc176302d",
        "colab": {
          "base_uri": "https://localhost:8080/",
          "height": 122
        }
      },
      "source": [
        "start = time.time()\n",
        "antes = huella_de_memoria()\n",
        "df = pd.read_csv(\"trip_data_2.csv\")\n",
        "end = time.time()\n",
        "despues = huella_de_memoria()\n",
        "print(despues)\n",
        "print(\"El tiempo que toma leer el archivo es {} segundos\".format(end - start))\n",
        "print(\"La huella de memoria del proceso para leer el archivo es {} \".format(despues-antes))"
      ],
      "execution_count": 0,
      "outputs": [
        {
          "output_type": "stream",
          "text": [
            "/usr/local/lib/python3.6/dist-packages/IPython/core/interactiveshell.py:2718: DtypeWarning: Columns (4) have mixed types. Specify dtype option on import or set low_memory=False.\n",
            "  interactivity=interactivity, compiler=compiler, result=result)\n"
          ],
          "name": "stderr"
        },
        {
          "output_type": "stream",
          "text": [
            "11141.29296875\n",
            "El tiempo que toma leer el archivo es 103.27230644226074 segundos\n",
            "La huella de memoria del proceso para leer el archivo es 910.64453125 \n"
          ],
          "name": "stdout"
        }
      ]
    },
    {
      "cell_type": "code",
      "metadata": {
        "id": "21FHpRBsk-yb",
        "colab_type": "code",
        "outputId": "e0e704ae-4c02-41f8-c59a-76d87ea10146",
        "colab": {
          "base_uri": "https://localhost:8080/",
          "height": 340
        }
      },
      "source": [
        "df.info()"
      ],
      "execution_count": 0,
      "outputs": [
        {
          "output_type": "stream",
          "text": [
            "<class 'pandas.core.frame.DataFrame'>\n",
            "RangeIndex: 13990176 entries, 0 to 13990175\n",
            "Data columns (total 14 columns):\n",
            "medallion             object\n",
            "hack_license          object\n",
            "vendor_id             object\n",
            "rate_code             int64\n",
            "store_and_fwd_flag    object\n",
            "pickup_datetime       object\n",
            "dropoff_datetime      object\n",
            "passenger_count       int64\n",
            "trip_time_in_secs     int64\n",
            "trip_distance         float64\n",
            "pickup_longitude      float64\n",
            "pickup_latitude       float64\n",
            "dropoff_longitude     float64\n",
            "dropoff_latitude      float64\n",
            "dtypes: float64(5), int64(3), object(6)\n",
            "memory usage: 1.5+ GB\n"
          ],
          "name": "stdout"
        }
      ]
    },
    {
      "cell_type": "code",
      "metadata": {
        "id": "l924VDuKg2hx",
        "colab_type": "code",
        "outputId": "753847f2-0d16-48d6-8d7f-af3fb58d7b4b",
        "colab": {
          "base_uri": "https://localhost:8080/",
          "height": 34
        }
      },
      "source": [
        "start = time.time()\n",
        "df[\"trip_distance\"].mean()\n",
        "end = time.time()\n",
        "print(\"El tiempo que toma en obtener el promedio es {} ms\".format(  (end - start) * 1000  ))"
      ],
      "execution_count": 0,
      "outputs": [
        {
          "output_type": "stream",
          "text": [
            "El tiempo que toma en obtener el promedio es 33.90693664550781 ms\n"
          ],
          "name": "stdout"
        }
      ]
    },
    {
      "cell_type": "markdown",
      "metadata": {
        "id": "ncgDJO7fNivZ",
        "colab_type": "text"
      },
      "source": [
        "#6.- Todos los pasos siguientes deben realizarse usando la libreria dask:\n",
        "\n",
        "* Indicar el tiempo que tarda en obtener el promedio de la distancia de viaje (trip_distance)\n",
        "* Indicar el tiempo que tarda en obtener el promedio de la duracion de viaje (trip_time_in_secs)\n",
        "* Con las columnas pickup_datetime y dropoff_datetime como objetos temporales, crear una nueva columna en los dataframes que se llame duracion y compararla renglon a renglon con la columna trip_time_in_secs\n",
        "* Definir un viaje_largo como aquellos en los que la duracion del viaje (trip_time_in_secs) sea mayor a 20 minutos.\n",
        "\n",
        "\n",
        "Respuestas:\n",
        "\n",
        "* El tiempo que toma en obtener el promedio de la distancia de viaje es 124.17882657051086 segundos\n",
        "* El promedio de la distancia de viaje es 2.756039513450363\n",
        "\n",
        "* El tiempo que toma en obtener el promedio de la duracion de viaje es 124.82945108413696 segundos\n",
        "* El promedio de la distancia de viaje es 705.6529154910131\n",
        "\n",
        "* Existen 10992094 registros en los que la duracion registrada es diferente a la calculada\n",
        "\n",
        "* Existen 3911808 viajes largos en lso datos\n",
        "\n",
        "\n",
        "\n",
        "\n"
      ]
    },
    {
      "cell_type": "code",
      "metadata": {
        "id": "TVYI2DMNOEpz",
        "colab_type": "code",
        "colab": {}
      },
      "source": [
        "import dask.dataframe as dd\n",
        "import time"
      ],
      "execution_count": 0,
      "outputs": []
    },
    {
      "cell_type": "code",
      "metadata": {
        "id": "1c8iDJPcXnN5",
        "colab_type": "code",
        "colab": {}
      },
      "source": [
        "datos = dd.read_csv(\"*.csv\")"
      ],
      "execution_count": 0,
      "outputs": []
    },
    {
      "cell_type": "code",
      "metadata": {
        "id": "J-KIN-USeq3v",
        "colab_type": "code",
        "colab": {
          "base_uri": "https://localhost:8080/",
          "height": 51
        },
        "outputId": "e8d17071-dcbc-4421-8c49-52fa33e97dc0"
      },
      "source": [
        "r = datos[\"trip_distance\"].mean()\n",
        "start = time.time()\n",
        "promedio = r.compute()\n",
        "end = time.time()\n",
        "print(\"El tiempo que toma en obtener el promedio de la distancia de viaje es {} segundos\".format(end - start))\n",
        "print(\"El promedio de la distancia de viaje es {}\".format(promedio))"
      ],
      "execution_count": 15,
      "outputs": [
        {
          "output_type": "stream",
          "text": [
            "El tiempo que toma en obtener el promedio de la distancia de viaje es 124.17882657051086 segundos\n",
            "El promedio de la distancia de viaje es 2.756039513450363\n"
          ],
          "name": "stdout"
        }
      ]
    },
    {
      "cell_type": "code",
      "metadata": {
        "id": "5LCVwd1XhDbw",
        "colab_type": "code",
        "colab": {
          "base_uri": "https://localhost:8080/",
          "height": 51
        },
        "outputId": "e403b971-40f4-4738-a9ed-c6f5e14d2523"
      },
      "source": [
        "r = datos[\"trip_time_in_secs\"].mean()\n",
        "start = time.time()\n",
        "promedio = r.compute()\n",
        "end = time.time()\n",
        "print(\"El tiempo que toma en obtener el promedio de la duracion de viaje es {} segundos\".format(end - start))\n",
        "print(\"El promedio de la distancia de viaje es {}\".format(promedio))"
      ],
      "execution_count": 17,
      "outputs": [
        {
          "output_type": "stream",
          "text": [
            "El tiempo que toma en obtener el promedio de la duracion de viaje es 124.82945108413696 segundos\n",
            "El promedio de la distancia de viaje es 705.6529154910131\n"
          ],
          "name": "stdout"
        }
      ]
    },
    {
      "cell_type": "code",
      "metadata": {
        "id": "9fs6yJxaifE9",
        "colab_type": "code",
        "colab": {
          "base_uri": "https://localhost:8080/",
          "height": 34
        },
        "outputId": "877088b2-48ed-4cfc-93f0-967b22bddacd"
      },
      "source": [
        "datos[\"pickup_datetime\"] = dd.to_datetime( datos[\"pickup_datetime\"] )\n",
        "datos[\"dropoff_datetime\"] = dd.to_datetime( datos[\"dropoff_datetime\"] )\n",
        "datos[\"duracion\"] = datos[\"dropoff_datetime\"] - datos[\"pickup_datetime\"]\n",
        "datos[\"duracion\"] = datos[\"duracion\"].dt.total_seconds()\n",
        "out = datos[(datos[\"duracion\"] != datos[\"trip_time_in_secs\"] )]\n",
        "print(\"Existen {} registros en los que la duracion registrada es diferente a la calculada\".format(datos.compute().shape[0] - out.compute().shape[0]))"
      ],
      "execution_count": 4,
      "outputs": [
        {
          "output_type": "stream",
          "text": [
            "Existen 10992094 registros en los que la duracion registrada es diferente a la calculada\n"
          ],
          "name": "stdout"
        }
      ]
    },
    {
      "cell_type": "code",
      "metadata": {
        "id": "sG31qkLK8_YY",
        "colab_type": "code",
        "colab": {
          "base_uri": "https://localhost:8080/",
          "height": 34
        },
        "outputId": "e7dacce9-1266-489a-bb03-98ebbeab2827"
      },
      "source": [
        "datos[\"pickup_datetime\"] = dd.to_datetime( datos[\"pickup_datetime\"] )\n",
        "datos[\"dropoff_datetime\"] = dd.to_datetime( datos[\"dropoff_datetime\"] )\n",
        "datos[\"duracion\"] = datos[\"dropoff_datetime\"] - datos[\"pickup_datetime\"]\n",
        "datos[\"duracion\"] = datos[\"duracion\"].dt.total_seconds()\n",
        "viajesLargos = datos[(datos[\"duracion\"] > 1200)]\n",
        "print(\"Existen {} viajes largos en los datos\".format(viajesLargos.compute().shape[0]))"
      ],
      "execution_count": 9,
      "outputs": [
        {
          "output_type": "stream",
          "text": [
            "Existen 3911808 viajes largos en lso datos\n"
          ],
          "name": "stdout"
        }
      ]
    },
    {
      "cell_type": "markdown",
      "metadata": {
        "id": "luL3bhSNCuGw",
        "colab_type": "text"
      },
      "source": [
        "#7.- Contar el numero de viajes largos en cada archivo\n",
        "\n",
        "Respuesta:\n",
        "\n",
        "* Existen 860775 viajes largos en el archivo 1\n",
        "* Existen 883053 viajes largos en el archivo 2\n",
        "* Existen 1051929 viajes largos en el archivo 3\n",
        "* Existen 1116051 viajes largos en el archivo  4"
      ]
    },
    {
      "cell_type": "code",
      "metadata": {
        "id": "W-TTNAbkCxVT",
        "colab_type": "code",
        "colab": {}
      },
      "source": [
        "import dask.dataframe as dd"
      ],
      "execution_count": 0,
      "outputs": []
    },
    {
      "cell_type": "code",
      "metadata": {
        "id": "WO3KuQMwDEQw",
        "colab_type": "code",
        "colab": {
          "base_uri": "https://localhost:8080/",
          "height": 85
        },
        "outputId": "964910ca-d3c4-4385-baaa-d5254d195fbe"
      },
      "source": [
        "for x in range(1,5):\n",
        "  datos = dd.read_csv(\"limpio_trip_data_{}.csv\".format(x))\n",
        "  datos[\"pickup_datetime\"] = dd.to_datetime( datos[\"pickup_datetime\"] )\n",
        "  datos[\"dropoff_datetime\"] = dd.to_datetime( datos[\"dropoff_datetime\"] )\n",
        "  datos[\"duracion\"] = datos[\"dropoff_datetime\"] - datos[\"pickup_datetime\"]\n",
        "  datos[\"duracion\"] = datos[\"duracion\"].dt.total_seconds()\n",
        "  viajesLargos = datos[(datos[\"duracion\"] > 1200)]\n",
        "  print(\"Existen {} viajes largos en el archivo {}\".format(viajesLargos.compute().shape[0], x))"
      ],
      "execution_count": 16,
      "outputs": [
        {
          "output_type": "stream",
          "text": [
            "Existen 860775 viajes largos en el archivo 1\n",
            "Existen 883053 viajes largos en el archivo 2\n",
            "Existen 1051929 viajes largos en el archivo 3\n",
            "Existen 1116051 viajes largos en el archivo 4\n"
          ],
          "name": "stdout"
        }
      ]
    },
    {
      "cell_type": "markdown",
      "metadata": {
        "id": "TOy2LNYdFfa-",
        "colab_type": "text"
      },
      "source": [
        "#8.- De los viajes largos.. \n",
        "\n",
        "* identificar el numero de taxis diferentes (la columna medallion contiene un numeroque identificada a cada uno de los vehiculos). \n",
        "* Que vehiculos son los que mas viajes realizan en cada mes? \n",
        "* Son el mismo vehiculo?\n",
        "\n",
        "Respuesta:\n",
        "\n",
        "Se repiten 6 taxis en los top 10  de los cuatro archivos:\n",
        "\n",
        "* 4DC83B013057503607E85BC4BB6581CE   --------- frecuencia:  3\n",
        "* 1E7C1EB194CCFD58634305DBE0588B85   --------- frecuencia:  3\n",
        "* 2344ACDBE31A22CED6B7782FB8E6960B  --------- frecuencia:  3\n",
        "* 89AC2013723DAC319A06BB59B812F546  --------- frecuencia:  2\n",
        "* D4B5952D54FE462DD585DC1F2865471A   --------- frecuencia:  2\n",
        "* BC35AA9F656191963ACBD58F9A0D5F26  --------- frecuencia:  2\n",
        "\n",
        "\n",
        "Los top 10 de los taxis con mas viajes se encuentra en la salida de la siguiente celda\n"
      ]
    },
    {
      "cell_type": "code",
      "metadata": {
        "id": "T8QzrJpZRsFO",
        "colab_type": "code",
        "colab": {}
      },
      "source": [
        "import pandas as pd \n",
        "import dask.dataframe as dd"
      ],
      "execution_count": 0,
      "outputs": []
    },
    {
      "cell_type": "code",
      "metadata": {
        "id": "nt8Nk9fuFn4t",
        "colab_type": "code",
        "colab": {
          "base_uri": "https://localhost:8080/",
          "height": 1635
        },
        "outputId": "f7536827-408a-4c56-f767-2c100d32f0b8"
      },
      "source": [
        "df = pd.DataFrame(columns=[\"medallon\", \"frecuencia\"])\n",
        "\n",
        "for x in range(1,5):\n",
        "  datos = dd.read_csv(\"limpio_trip_data_{}.csv\".format(x))\n",
        "  datos[\"pickup_datetime\"] = dd.to_datetime( datos[\"pickup_datetime\"] )\n",
        "  datos[\"dropoff_datetime\"] = dd.to_datetime( datos[\"dropoff_datetime\"] )\n",
        "  datos[\"duracion\"] = datos[\"dropoff_datetime\"] - datos[\"pickup_datetime\"]\n",
        "  datos[\"duracion\"] = datos[\"duracion\"].dt.total_seconds()\n",
        "  viajesLargos = datos[(datos[\"duracion\"] > 1200)]\n",
        "  top = viajesLargos[\"medallion\"].value_counts().reset_index()\n",
        "  top.columns = [\"medallon\", \"frecuencia\"]\n",
        "  print(\"\\n TOP 10 de taxis en mes {}\".format(x))\n",
        "  t = top.compute()[:10]\n",
        "  df = pd.concat([df, t])\n",
        "  print(t)\n",
        "\n",
        "print(\"\\n Frecuencia del top de taxis en los 4 meses \\n\")\n",
        "print(df[\"medallon\"].value_counts())"
      ],
      "execution_count": 98,
      "outputs": [
        {
          "output_type": "stream",
          "text": [
            "\n",
            " TOP 10 de taxis en mes 1\n"
          ],
          "name": "stdout"
        },
        {
          "output_type": "stream",
          "text": [
            "/usr/local/lib/python3.6/dist-packages/pandas/core/ops.py:1649: FutureWarning: elementwise comparison failed; returning scalar instead, but in the future will perform elementwise comparison\n",
            "  result = method(y)\n"
          ],
          "name": "stderr"
        },
        {
          "output_type": "stream",
          "text": [
            "                           medallon  frecuencia\n",
            "0  DAF57CF25F00457CC6077CD628EC71AC         304\n",
            "1  8B1E839B6A76E16B17F1A32235E3F7BA         284\n",
            "2  0076C8327A95E988E721AC33B0FA9D67         271\n",
            "3  1E7C1EB194CCFD58634305DBE0588B85         268\n",
            "4  BC41253BA5B3EA6228EC1357F3F1097D         252\n",
            "5  832154570CFDD2D7E601518117B187DE         252\n",
            "6  6BD1B641A1CD55803A21560299B985A7         252\n",
            "7  5A499D2577B8CAAC1304000D3F5DD3A7         242\n",
            "8  8211BE04462ADE4621B68E1DFEA54754         242\n",
            "9  4DC83B013057503607E85BC4BB6581CE         241\n",
            "\n",
            " TOP 10 de taxis en mes 2\n"
          ],
          "name": "stdout"
        },
        {
          "output_type": "stream",
          "text": [
            "/usr/local/lib/python3.6/dist-packages/pandas/core/ops.py:1649: FutureWarning: elementwise comparison failed; returning scalar instead, but in the future will perform elementwise comparison\n",
            "  result = method(y)\n"
          ],
          "name": "stderr"
        },
        {
          "output_type": "stream",
          "text": [
            "                           medallon  frecuencia\n",
            "0  89AC2013723DAC319A06BB59B812F546         235\n",
            "1  D1B13C1DB63506CBF3FE37BB6EDF8C16         232\n",
            "2  BF0C369F1C7B04024A23D4394D16E0CB         231\n",
            "3  DB51F659A90E9457DD2A2F4D5A2A3186         227\n",
            "4  2344ACDBE31A22CED6B7782FB8E6960B         225\n",
            "5  F9B3A00E6DDCA4F8BF2560DFF36B9E91         224\n",
            "6  D4B5952D54FE462DD585DC1F2865471A         223\n",
            "7  81C4DF9BA06C93EDCC87F6702E0B22F5         222\n",
            "8  BC35AA9F656191963ACBD58F9A0D5F26         222\n",
            "9  1E7C1EB194CCFD58634305DBE0588B85         222\n",
            "\n",
            " TOP 10 de taxis en mes 3\n"
          ],
          "name": "stdout"
        },
        {
          "output_type": "stream",
          "text": [
            "/usr/local/lib/python3.6/dist-packages/pandas/core/ops.py:1649: FutureWarning: elementwise comparison failed; returning scalar instead, but in the future will perform elementwise comparison\n",
            "  result = method(y)\n"
          ],
          "name": "stderr"
        },
        {
          "output_type": "stream",
          "text": [
            "                           medallon  frecuencia\n",
            "0  D2A7720C48ED8BA7FB43E4C6A56D071A         275\n",
            "1  2344ACDBE31A22CED6B7782FB8E6960B         275\n",
            "2  D014BF3B8983EB73F40D4E48BB973932         268\n",
            "3  D4B5952D54FE462DD585DC1F2865471A         268\n",
            "4  89AC2013723DAC319A06BB59B812F546         266\n",
            "5  B471B4206064A6F9FBDDB4BB45804AD1         262\n",
            "6  89CBEA6E90D9A967338614180FE2A826         262\n",
            "7  1F52DAC6599542AE40625CD07A50CBD1         261\n",
            "8  4DC83B013057503607E85BC4BB6581CE         261\n",
            "9  BC35AA9F656191963ACBD58F9A0D5F26         260\n",
            "\n",
            " TOP 10 de taxis en mes 4\n"
          ],
          "name": "stdout"
        },
        {
          "output_type": "stream",
          "text": [
            "/usr/local/lib/python3.6/dist-packages/pandas/core/ops.py:1649: FutureWarning: elementwise comparison failed; returning scalar instead, but in the future will perform elementwise comparison\n",
            "  result = method(y)\n"
          ],
          "name": "stderr"
        },
        {
          "output_type": "stream",
          "text": [
            "                           medallon  frecuencia\n",
            "0  1E7C1EB194CCFD58634305DBE0588B85         296\n",
            "1  291470C747FCEEEB97C6A2CBB46A46AF         294\n",
            "2  EC6B0947FCCC49473DE94FCBFEECCE82         283\n",
            "3  C1A040C016496F3E4CD044EC8074AEA3         282\n",
            "4  2344ACDBE31A22CED6B7782FB8E6960B         281\n",
            "5  2789D8398CBD60E51BF7D4BC78F3D7A9         278\n",
            "6  4313CEF5E971DE658618F468688EE2C2         277\n",
            "7  4DC83B013057503607E85BC4BB6581CE         274\n",
            "8  D07675FDBF681426B66848DA4D3E6780         273\n",
            "9  22D1934CF861B8BE43F10FBAD93FEF69         267\n",
            "\n",
            " Frecuencia del top de taxis en los 4 meses\n",
            "4DC83B013057503607E85BC4BB6581CE    3\n",
            "1E7C1EB194CCFD58634305DBE0588B85    3\n",
            "2344ACDBE31A22CED6B7782FB8E6960B    3\n",
            "89AC2013723DAC319A06BB59B812F546    2\n",
            "D4B5952D54FE462DD585DC1F2865471A    2\n",
            "BC35AA9F656191963ACBD58F9A0D5F26    2\n",
            "5A499D2577B8CAAC1304000D3F5DD3A7    1\n",
            "EC6B0947FCCC49473DE94FCBFEECCE82    1\n",
            "C1A040C016496F3E4CD044EC8074AEA3    1\n",
            "D07675FDBF681426B66848DA4D3E6780    1\n",
            "BF0C369F1C7B04024A23D4394D16E0CB    1\n",
            "4313CEF5E971DE658618F468688EE2C2    1\n",
            "291470C747FCEEEB97C6A2CBB46A46AF    1\n",
            "F9B3A00E6DDCA4F8BF2560DFF36B9E91    1\n",
            "81C4DF9BA06C93EDCC87F6702E0B22F5    1\n",
            "832154570CFDD2D7E601518117B187DE    1\n",
            "8B1E839B6A76E16B17F1A32235E3F7BA    1\n",
            "D014BF3B8983EB73F40D4E48BB973932    1\n",
            "D1B13C1DB63506CBF3FE37BB6EDF8C16    1\n",
            "BC41253BA5B3EA6228EC1357F3F1097D    1\n",
            "0076C8327A95E988E721AC33B0FA9D67    1\n",
            "22D1934CF861B8BE43F10FBAD93FEF69    1\n",
            "89CBEA6E90D9A967338614180FE2A826    1\n",
            "D2A7720C48ED8BA7FB43E4C6A56D071A    1\n",
            "6BD1B641A1CD55803A21560299B985A7    1\n",
            "DAF57CF25F00457CC6077CD628EC71AC    1\n",
            "2789D8398CBD60E51BF7D4BC78F3D7A9    1\n",
            "8211BE04462ADE4621B68E1DFEA54754    1\n",
            "DB51F659A90E9457DD2A2F4D5A2A3186    1\n",
            "1F52DAC6599542AE40625CD07A50CBD1    1\n",
            "B471B4206064A6F9FBDDB4BB45804AD1    1\n",
            "Name: medallon, dtype: int64\n"
          ],
          "name": "stdout"
        }
      ]
    },
    {
      "cell_type": "markdown",
      "metadata": {
        "id": "Pv8XdUdUeQms",
        "colab_type": "text"
      },
      "source": [
        "#9.- otro"
      ]
    }
  ]
}