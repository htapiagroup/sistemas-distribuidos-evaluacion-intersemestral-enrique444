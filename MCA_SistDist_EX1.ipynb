{
  "nbformat": 4,
  "nbformat_minor": 0,
  "metadata": {
    "colab": {
      "name": "MCA_SistDist_EX1.ipynb",
      "version": "0.3.2",
      "provenance": [],
      "collapsed_sections": [],
      "include_colab_link": true
    },
    "kernelspec": {
      "name": "python3",
      "display_name": "Python 3"
    }
  },
  "cells": [
    {
      "cell_type": "markdown",
      "metadata": {
        "id": "view-in-github",
        "colab_type": "text"
      },
      "source": [
        "<a href=\"https://colab.research.google.com/github/htapiagroup/sistemas-distribuidos-evaluacion-intersemestral-enrique444/blob/master/MCA_SistDist_EX1.ipynb\" target=\"_parent\"><img src=\"https://colab.research.google.com/assets/colab-badge.svg\" alt=\"Open In Colab\"/></a>"
      ]
    },
    {
      "cell_type": "markdown",
      "metadata": {
        "id": "_m7gk0G7SIhG",
        "colab_type": "text"
      },
      "source": [
        "#Pedro Enrique Virgen Dorantes\n"
      ]
    },
    {
      "cell_type": "markdown",
      "metadata": {
        "id": "jGdQal1pWkRv",
        "colab_type": "text"
      },
      "source": [
        "## 1 y 2.- Adquirir los datos y descomprimirlos."
      ]
    },
    {
      "cell_type": "code",
      "metadata": {
        "id": "TBERBFjOLoKE",
        "colab_type": "code",
        "colab": {}
      },
      "source": [
        "!wget https://archive.org/download/nycTaxiTripData2013/trip_data.7z"
      ],
      "execution_count": 0,
      "outputs": []
    },
    {
      "cell_type": "code",
      "metadata": {
        "id": "_aIAFW6Caqan",
        "colab_type": "code",
        "colab": {}
      },
      "source": [
        "!7z x trip_data.7z -o/content trip_data_1.csv\n",
        "!7z x trip_data.7z -o/content trip_data_2.csv\n",
        "!7z x trip_data.7z -o/content trip_data_3.csv\n",
        "!7z x trip_data.7z -o/content trip_data_4.csv"
      ],
      "execution_count": 0,
      "outputs": []
    },
    {
      "cell_type": "code",
      "metadata": {
        "id": "jUnq8fgZfbo-",
        "colab_type": "code",
        "outputId": "68b3f31d-e502-4bca-ed71-df49f0d7461e",
        "colab": {
          "base_uri": "https://localhost:8080/",
          "height": 187
        }
      },
      "source": [
        "ls -la"
      ],
      "execution_count": 6,
      "outputs": [
        {
          "output_type": "stream",
          "text": [
            "total 13699652\n",
            "drwxr-xr-x 1 root root       4096 Jun 19 01:11 \u001b[0m\u001b[01;34m.\u001b[0m/\n",
            "drwxr-xr-x 1 root root       4096 Jun 19 00:57 \u001b[01;34m..\u001b[0m/\n",
            "drwxr-xr-x 1 root root       4096 Jun 14 16:05 \u001b[01;34m.config\u001b[0m/\n",
            "drwxr-xr-x 1 root root       4096 May 31 16:17 \u001b[01;34msample_data\u001b[0m/\n",
            "-rwxr-xr-x 1 root root 2459600863 May 12  2014 \u001b[01;32mtrip_data_1.csv\u001b[0m*\n",
            "-rwxr-xr-x 1 root root 2328673265 May 12  2014 \u001b[01;32mtrip_data_2.csv\u001b[0m*\n",
            "-rwxr-xr-x 1 root root 2622301287 Aug 26  2013 \u001b[01;32mtrip_data_3.csv\u001b[0m*\n",
            "-rwxr-xr-x 1 root root 2515040578 Aug 26  2013 \u001b[01;32mtrip_data_4.csv\u001b[0m*\n",
            "-rw-r--r-- 1 root root 4102781969 Jun 20  2014 trip_data.7z\n"
          ],
          "name": "stdout"
        }
      ]
    },
    {
      "cell_type": "markdown",
      "metadata": {
        "id": "h5uML3N0fqvD",
        "colab_type": "text"
      },
      "source": [
        "##3.- Responder las preguntas\n",
        "\n",
        "\n",
        "1.   Cuantas columnas contiene cada archivo de datos descomprimido\n",
        "2.   Cuantos renglones tiene cada archivo\n",
        "\n",
        "Respuesta:\n",
        "\n",
        "* Archivo 1 tiene 14776615 filas y 14 columnas\n",
        "* Archivo 2 tiene 13990176 filas y 14 columnas\n",
        "* Archivo 3 tiene 15749228 filas y 14 columnas\n",
        "* Archivo 4 tiene 15100468 filas y 14 columnas\n",
        "\n",
        "La respuesta fué obtenida ejecutando el codigo de las siguientes 2 celdas:"
      ]
    },
    {
      "cell_type": "code",
      "metadata": {
        "id": "YJ-PBBUKf21n",
        "colab_type": "code",
        "colab": {}
      },
      "source": [
        "import pandas as pd\n",
        "import dask.dataframe as dd"
      ],
      "execution_count": 0,
      "outputs": []
    },
    {
      "cell_type": "code",
      "metadata": {
        "id": "5ZCMB8c6pOi2",
        "colab_type": "code",
        "outputId": "846e59e4-3c8b-4e8e-c118-4b0fa4f5d58b",
        "colab": {
          "base_uri": "https://localhost:8080/",
          "height": 275
        }
      },
      "source": [
        "plantilla = \"trip_data_{}.csv\"\n",
        "for x in range(1, 5):\n",
        "  df_temp = dd.read_csv(plantilla.format(x))\n",
        "  print(df_temp.compute().shape)\n",
        "  print(\"------------------------------\")"
      ],
      "execution_count": 0,
      "outputs": [
        {
          "output_type": "stream",
          "text": [
            "(14776615, 14)\n",
            "------------------------------\n"
          ],
          "name": "stdout"
        },
        {
          "output_type": "stream",
          "text": [
            "/usr/local/lib/python3.6/dist-packages/dask/core.py:118: DtypeWarning: Columns (4) have mixed types. Specify dtype option on import or set low_memory=False.\n",
            "  args2 = [_execute_task(a, cache) for a in args]\n"
          ],
          "name": "stderr"
        },
        {
          "output_type": "stream",
          "text": [
            "(13990176, 14)\n",
            "------------------------------\n"
          ],
          "name": "stdout"
        },
        {
          "output_type": "stream",
          "text": [
            "/usr/local/lib/python3.6/dist-packages/dask/core.py:118: DtypeWarning: Columns (4) have mixed types. Specify dtype option on import or set low_memory=False.\n",
            "  args2 = [_execute_task(a, cache) for a in args]\n"
          ],
          "name": "stderr"
        },
        {
          "output_type": "stream",
          "text": [
            "(15749228, 14)\n",
            "------------------------------\n"
          ],
          "name": "stdout"
        },
        {
          "output_type": "stream",
          "text": [
            "/usr/local/lib/python3.6/dist-packages/dask/core.py:118: DtypeWarning: Columns (4) have mixed types. Specify dtype option on import or set low_memory=False.\n",
            "  args2 = [_execute_task(a, cache) for a in args]\n"
          ],
          "name": "stderr"
        },
        {
          "output_type": "stream",
          "text": [
            "(15100468, 14)\n",
            "------------------------------\n"
          ],
          "name": "stdout"
        }
      ]
    },
    {
      "cell_type": "markdown",
      "metadata": {
        "id": "nO1oPkqq0m-D",
        "colab_type": "text"
      },
      "source": [
        "##4.- Identificar si existen renglones con errores en los datos, por ejemplo si hay columnas de mas (o de menos), si hay campos vacios, etc. Si se detectan renglones con errores:\n",
        "\n",
        "\n",
        "1.   Indicar claramente cuantos son los renglones con errores y a que archivos corresponden\n",
        "2.   Crear un nuevo conjunto de datos con los errores eliminados\n",
        "\n",
        "Respuesta:\n",
        "\n",
        "* El archivo 1 tiene: \n",
        "** 7326207 renglones con errores de datos faltantes\n",
        "** 140165 errores de coordenadas fuera del cuadro de NY\n",
        "** 33 errores de número pasajeros\n",
        "\n",
        "* El archivo 2 tiene: \n",
        "** 6952551 renglones con errores de datos faltantes\n",
        "** 137878 errores de coordenadas fuera del cuadro de NY\n",
        "** 55 errores de número pasajeros\n",
        "\n",
        "* El archivo 3 tiene: \n",
        "** Errores en el nombre de sus columnas (un espacio al principio)\n",
        "** 7819244 renglones con errores de datos faltantes\n",
        "** 157562 errores de coordenadas fuera del cuadro de NY\n",
        "** 64 errores de número pasajeros\n",
        "\n",
        "* El archivo 4 tiene: \n",
        "** Errores en el nombre de sus columnas (un espacio al principio)\n",
        "** 7518657 renglones con errores de datos faltantes\n",
        "** 150954 errores de coordenadas fuera del cuadro de NY\n",
        "** 44 errores de número pasajeros\n",
        "\n",
        "\n",
        "Se crearon archivos  nuevos sin los datos con errores encontrados:\n",
        "* limpio_trip_data_1.csv\n",
        "* limpio_trip_data_2.csv\n",
        "* limpio_trip_data_3.csv\n",
        "* limpio_trip_data_4.csv\n",
        "\n",
        "La respuesta fué obtenida ejecutando el codigo de las siguientes 8 celdas:"
      ]
    },
    {
      "cell_type": "code",
      "metadata": {
        "id": "5LluBwZB5C-h",
        "colab_type": "code",
        "outputId": "4d180442-5dd6-45d4-8a2f-b67c499e6611",
        "colab": {
          "base_uri": "https://localhost:8080/",
          "height": 68
        }
      },
      "source": [
        "missing_values = [\"\", \" \", \"-\", \"_\"]\n",
        "df_temp = pd.read_csv(\"trip_data_1.csv\", na_values = missing_values)\n",
        "datosConErrores = df_temp.isna()\n",
        "errores = datosConErrores[datosConErrores.isin([True])].dropna(how=\"all\")\n",
        "print(\"El archivo 1 tiene {} renglones con errores de datos faltantes\".format(errores.shape[0]))\n",
        "df_temp = df_temp.drop(errores.index)\n",
        "antes = df_temp.shape[0]\n",
        "df_temp = df_temp[(df_temp[\"pickup_longitude\"] > -74.253842) & (df_temp[\"pickup_longitude\"] <  -73.709271) & (df_temp[\"pickup_latitude\"] > 40.495089) & (df_temp[\"pickup_latitude\"] < 40.910281)]\n",
        "print(\"El archivo 1 tiene {} errores de coordenadas\".format((antes - df_temp.shape[0])))\n",
        "antes = df_temp.shape[0]\n",
        "df_temp = df_temp[(df_temp[\"passenger_count\"] > 0) & (df_temp[\"passenger_count\"] < 7)]\n",
        "print(\"El archivo 1 tiene {} errores de pasajeros\".format((antes - df_temp.shape[0])))\n",
        "df_temp.to_csv(\"limpio_trip_data_1.csv\", sep=',', encoding='utf-8')"
      ],
      "execution_count": 0,
      "outputs": [
        {
          "output_type": "stream",
          "text": [
            "El archivo 1 tiene 7326207 renglones con errores de datos faltantes\n",
            "El archivo 1 tiene 140165 errores de coordenadas\n",
            "El archivo 1 tiene 33 errores de pasajeros\n"
          ],
          "name": "stdout"
        }
      ]
    },
    {
      "cell_type": "code",
      "metadata": {
        "id": "6kIjJdR6C_LA",
        "colab_type": "code",
        "colab": {}
      },
      "source": [
        "rm trip_data_1.csv"
      ],
      "execution_count": 0,
      "outputs": []
    },
    {
      "cell_type": "code",
      "metadata": {
        "id": "aeqNhfXzDzG0",
        "colab_type": "code",
        "outputId": "565a3674-f95b-46ed-c3e4-823fa5e4ab4c",
        "colab": {
          "base_uri": "https://localhost:8080/",
          "height": 122
        }
      },
      "source": [
        "missing_values = [\"\", \" \", \"-\", \"_\"]\n",
        "df_temp = pd.read_csv(\"trip_data_2.csv\", na_values = missing_values)\n",
        "datosConErrores = df_temp.isna()\n",
        "errores = datosConErrores[datosConErrores.isin([True])].dropna(how=\"all\")\n",
        "print(\"El archivo 2 tiene {} renglones con errores de datos faltantes\".format(errores.shape[0]))\n",
        "df_temp = df_temp.drop(errores.index)\n",
        "antes = df_temp.shape[0]\n",
        "df_temp = df_temp[(df_temp[\"pickup_longitude\"] > -74.253842) & (df_temp[\"pickup_longitude\"] <  -73.709271) & (df_temp[\"pickup_latitude\"] > 40.495089) & (df_temp[\"pickup_latitude\"] < 40.910281)]\n",
        "print(\"El archivo 2 tiene {} errores de coordenadas\".format((antes - df_temp.shape[0])))\n",
        "antes = df_temp.shape[0]\n",
        "df_temp = df_temp[(df_temp[\"passenger_count\"] > 0) & (df_temp[\"passenger_count\"] < 7)]\n",
        "print(\"El archivo 2 tiene {} errores de pasajeros\".format((antes - df_temp.shape[0])))\n",
        "df_temp.to_csv(\"limpio_trip_data_2.csv\", sep=',', encoding='utf-8')"
      ],
      "execution_count": 0,
      "outputs": [
        {
          "output_type": "stream",
          "text": [
            "/usr/local/lib/python3.6/dist-packages/IPython/core/interactiveshell.py:2718: DtypeWarning: Columns (4) have mixed types. Specify dtype option on import or set low_memory=False.\n",
            "  interactivity=interactivity, compiler=compiler, result=result)\n"
          ],
          "name": "stderr"
        },
        {
          "output_type": "stream",
          "text": [
            "El archivo 2 tiene 6952551 renglones con errores de datos faltantes\n",
            "El archivo 2 tiene 137878 errores de coordenadas\n",
            "El archivo 2 tiene 55 errores de pasajeros\n"
          ],
          "name": "stdout"
        }
      ]
    },
    {
      "cell_type": "code",
      "metadata": {
        "id": "AnawLIHND4tj",
        "colab_type": "code",
        "colab": {}
      },
      "source": [
        "rm trip_data_2.csv"
      ],
      "execution_count": 0,
      "outputs": []
    },
    {
      "cell_type": "code",
      "metadata": {
        "id": "VUn1rfieFM1h",
        "colab_type": "code",
        "outputId": "4980686c-df05-40cd-c28d-0eb5c7050375",
        "colab": {
          "base_uri": "https://localhost:8080/",
          "height": 88
        }
      },
      "source": [
        "missing_values = [\"\", \" \", \"-\", \"_\"]\n",
        "df_temp = pd.read_csv(\"trip_data_3.csv\", na_values = missing_values)\n",
        "datosConErrores = df_temp.isna()\n",
        "errores = datosConErrores[datosConErrores.isin([True])].dropna(how=\"all\")\n",
        "print(\"El archivo 3 tiene {} renglones con errores de datos faltantes\".format(errores.shape[0]))\n",
        "df_temp = df_temp.drop(errores.index)\n",
        "antes = df_temp.shape[0]\n",
        "df_temp.columns = df_temp.columns.str.strip()\n",
        "df_temp = df_temp[(df_temp[\"pickup_longitude\"] > -74.253842) & (df_temp[\"pickup_longitude\"] <  -73.709271) & (df_temp[\"pickup_latitude\"] > 40.495089) & (df_temp[\"pickup_latitude\"] < 40.910281)]\n",
        "print(\"El archivo 3 tiene {} errores de coordenadas\".format((antes - df_temp.shape[0])))\n",
        "antes = df_temp.shape[0]\n",
        "df_temp = df_temp[(df_temp[\"passenger_count\"] > 0) & (df_temp[\"passenger_count\"] < 7)]\n",
        "print(\"El archivo 3 tiene {} errores de pasajeros\".format((antes - df_temp.shape[0])))\n",
        "df_temp.to_csv(\"limpio_trip_data_3.csv\", sep=',', encoding='utf-8')"
      ],
      "execution_count": 7,
      "outputs": [
        {
          "output_type": "stream",
          "text": [
            "/usr/local/lib/python3.6/dist-packages/IPython/core/interactiveshell.py:2718: DtypeWarning: Columns (4) have mixed types. Specify dtype option on import or set low_memory=False.\n",
            "  interactivity=interactivity, compiler=compiler, result=result)\n"
          ],
          "name": "stderr"
        },
        {
          "output_type": "stream",
          "text": [
            "El archivo 3 tiene 7819244 renglones con errores de datos faltantes\n"
          ],
          "name": "stdout"
        }
      ]
    },
    {
      "cell_type": "code",
      "metadata": {
        "id": "MfvqNbbkFTS6",
        "colab_type": "code",
        "colab": {}
      },
      "source": [
        "rm trip_data_3.csv"
      ],
      "execution_count": 0,
      "outputs": []
    },
    {
      "cell_type": "code",
      "metadata": {
        "id": "d-xnphRkJAqA",
        "colab_type": "code",
        "outputId": "1755e91c-c834-4def-da90-c1cbf5c0aa4a",
        "colab": {
          "base_uri": "https://localhost:8080/",
          "height": 122
        }
      },
      "source": [
        "missing_values = [\"\", \" \", \"-\", \"_\"]\n",
        "df_temp = pd.read_csv(\"trip_data_4.csv\", na_values = missing_values)\n",
        "datosConErrores = df_temp.isna()\n",
        "errores = datosConErrores[datosConErrores.isin([True])].dropna(how=\"all\")\n",
        "print(\"El archivo 4 tiene {} renglones con errores de datos faltantes\".format(errores.shape[0]))\n",
        "df_temp = df_temp.drop(errores.index)\n",
        "antes = df_temp.shape[0]\n",
        "df_temp.columns = df_temp.columns.str.strip()\n",
        "df_temp = df_temp[(df_temp[\"pickup_longitude\"] > -74.253842) & (df_temp[\"pickup_longitude\"] <  -73.709271) & (df_temp[\"pickup_latitude\"] > 40.495089) & (df_temp[\"pickup_latitude\"] < 40.910281)]\n",
        "print(\"El archivo 4 tiene {} errores de coordenadas\".format((antes - df_temp.shape[0])))\n",
        "antes = df_temp.shape[0]\n",
        "df_temp = df_temp[(df_temp[\"passenger_count\"] > 0) & (df_temp[\"passenger_count\"] < 7)]\n",
        "print(\"El archivo 4 tiene {} errores de pasajeros\".format((antes - df_temp.shape[0])))\n",
        "df_temp.to_csv(\"limpio_trip_data_4.csv\", sep=',', encoding='utf-8')\n"
      ],
      "execution_count": 15,
      "outputs": [
        {
          "output_type": "stream",
          "text": [
            "/usr/local/lib/python3.6/dist-packages/IPython/core/interactiveshell.py:2718: DtypeWarning: Columns (4) have mixed types. Specify dtype option on import or set low_memory=False.\n",
            "  interactivity=interactivity, compiler=compiler, result=result)\n"
          ],
          "name": "stderr"
        },
        {
          "output_type": "stream",
          "text": [
            "El archivo 4 tiene 7518657 renglones con errores de datos faltantes\n",
            "El archivo 4 tiene 150954 errores de coordenadas\n",
            "El archivo 4 tiene 44 errores de pasajeros\n"
          ],
          "name": "stdout"
        }
      ]
    },
    {
      "cell_type": "code",
      "metadata": {
        "id": "19RMDajE5BNJ",
        "colab_type": "code",
        "colab": {}
      },
      "source": [
        "rm trip_data_4.csv"
      ],
      "execution_count": 0,
      "outputs": []
    },
    {
      "cell_type": "code",
      "metadata": {
        "id": "aUS4g1UV_lsz",
        "colab_type": "code",
        "colab": {}
      },
      "source": [
        "#df_temp['trip_distance'].value_counts()\n",
        "#df_temp.loc[ 14739051 , : ]"
      ],
      "execution_count": 0,
      "outputs": []
    },
    {
      "cell_type": "code",
      "metadata": {
        "id": "LZ_iIDH_1gkt",
        "colab_type": "code",
        "colab": {}
      },
      "source": [
        ""
      ],
      "execution_count": 0,
      "outputs": []
    }
  ]
}