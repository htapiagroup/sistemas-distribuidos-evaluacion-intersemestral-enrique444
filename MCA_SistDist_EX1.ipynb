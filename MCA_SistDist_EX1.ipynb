{
  "nbformat": 4,
  "nbformat_minor": 0,
  "metadata": {
    "colab": {
      "name": "MCA_SistDist_EX1.ipynb",
      "version": "0.3.2",
      "provenance": [],
      "collapsed_sections": [
        "jGdQal1pWkRv",
        "h5uML3N0fqvD",
        "nO1oPkqq0m-D",
        "YA07PpvXfhN_"
      ],
      "include_colab_link": true
    },
    "kernelspec": {
      "name": "python3",
      "display_name": "Python 3"
    }
  },
  "cells": [
    {
      "cell_type": "markdown",
      "metadata": {
        "id": "view-in-github",
        "colab_type": "text"
      },
      "source": [
        "<a href=\"https://colab.research.google.com/github/htapiagroup/sistemas-distribuidos-evaluacion-intersemestral-enrique444/blob/master/MCA_SistDist_EX1.ipynb\" target=\"_parent\"><img src=\"https://colab.research.google.com/assets/colab-badge.svg\" alt=\"Open In Colab\"/></a>"
      ]
    },
    {
      "cell_type": "markdown",
      "metadata": {
        "id": "_m7gk0G7SIhG",
        "colab_type": "text"
      },
      "source": [
        "#Pedro Enrique Virgen Dorantes\n"
      ]
    },
    {
      "cell_type": "markdown",
      "metadata": {
        "id": "jGdQal1pWkRv",
        "colab_type": "text"
      },
      "source": [
        "## 1 y 2.- Adquirir los datos y descomprimirlos."
      ]
    },
    {
      "cell_type": "code",
      "metadata": {
        "id": "TBERBFjOLoKE",
        "colab_type": "code",
        "colab": {}
      },
      "source": [
        "!wget https://archive.org/download/nycTaxiTripData2013/trip_data.7z"
      ],
      "execution_count": 0,
      "outputs": []
    },
    {
      "cell_type": "code",
      "metadata": {
        "id": "_aIAFW6Caqan",
        "colab_type": "code",
        "colab": {}
      },
      "source": [
        "!7z x trip_data.7z -o/content trip_data_1.csv\n",
        "!7z x trip_data.7z -o/content trip_data_2.csv\n",
        "!7z x trip_data.7z -o/content trip_data_3.csv\n",
        "!7z x trip_data.7z -o/content trip_data_4.csv"
      ],
      "execution_count": 0,
      "outputs": []
    },
    {
      "cell_type": "code",
      "metadata": {
        "id": "jUnq8fgZfbo-",
        "colab_type": "code",
        "colab": {}
      },
      "source": [
        "ls -la"
      ],
      "execution_count": 0,
      "outputs": []
    },
    {
      "cell_type": "markdown",
      "metadata": {
        "id": "h5uML3N0fqvD",
        "colab_type": "text"
      },
      "source": [
        "##3.- Responder las preguntas\n",
        "\n",
        "\n",
        "1.   Cuantas columnas contiene cada archivo de datos descomprimido\n",
        "2.   Cuantos renglones tiene cada archivo\n",
        "\n",
        "Respuesta:\n",
        "\n",
        "* Archivo 1 tiene 14776615 filas y 14 columnas\n",
        "* Archivo 2 tiene 13990176 filas y 14 columnas\n",
        "* Archivo 3 tiene 15749228 filas y 14 columnas\n",
        "* Archivo 4 tiene 15100468 filas y 14 columnas\n",
        "\n",
        "La respuesta fué obtenida ejecutando el codigo de las siguientes 2 celdas:"
      ]
    },
    {
      "cell_type": "code",
      "metadata": {
        "id": "YJ-PBBUKf21n",
        "colab_type": "code",
        "colab": {}
      },
      "source": [
        "import pandas as pd\n",
        "import dask.dataframe as dd"
      ],
      "execution_count": 0,
      "outputs": []
    },
    {
      "cell_type": "code",
      "metadata": {
        "id": "5ZCMB8c6pOi2",
        "colab_type": "code",
        "outputId": "846e59e4-3c8b-4e8e-c118-4b0fa4f5d58b",
        "colab": {
          "base_uri": "https://localhost:8080/",
          "height": 275
        }
      },
      "source": [
        "plantilla = \"trip_data_{}.csv\"\n",
        "for x in range(1, 5):\n",
        "  df_temp = dd.read_csv(plantilla.format(x))\n",
        "  print(df_temp.compute().shape)\n",
        "  print(\"------------------------------\")"
      ],
      "execution_count": 0,
      "outputs": [
        {
          "output_type": "stream",
          "text": [
            "(14776615, 14)\n",
            "------------------------------\n"
          ],
          "name": "stdout"
        },
        {
          "output_type": "stream",
          "text": [
            "/usr/local/lib/python3.6/dist-packages/dask/core.py:118: DtypeWarning: Columns (4) have mixed types. Specify dtype option on import or set low_memory=False.\n",
            "  args2 = [_execute_task(a, cache) for a in args]\n"
          ],
          "name": "stderr"
        },
        {
          "output_type": "stream",
          "text": [
            "(13990176, 14)\n",
            "------------------------------\n"
          ],
          "name": "stdout"
        },
        {
          "output_type": "stream",
          "text": [
            "/usr/local/lib/python3.6/dist-packages/dask/core.py:118: DtypeWarning: Columns (4) have mixed types. Specify dtype option on import or set low_memory=False.\n",
            "  args2 = [_execute_task(a, cache) for a in args]\n"
          ],
          "name": "stderr"
        },
        {
          "output_type": "stream",
          "text": [
            "(15749228, 14)\n",
            "------------------------------\n"
          ],
          "name": "stdout"
        },
        {
          "output_type": "stream",
          "text": [
            "/usr/local/lib/python3.6/dist-packages/dask/core.py:118: DtypeWarning: Columns (4) have mixed types. Specify dtype option on import or set low_memory=False.\n",
            "  args2 = [_execute_task(a, cache) for a in args]\n"
          ],
          "name": "stderr"
        },
        {
          "output_type": "stream",
          "text": [
            "(15100468, 14)\n",
            "------------------------------\n"
          ],
          "name": "stdout"
        }
      ]
    },
    {
      "cell_type": "markdown",
      "metadata": {
        "id": "nO1oPkqq0m-D",
        "colab_type": "text"
      },
      "source": [
        "##4.- Identificar si existen renglones con errores en los datos, por ejemplo si hay columnas de mas (o de menos), si hay campos vacios, etc. Si se detectan renglones con errores:\n",
        "\n",
        "\n",
        "1.   Indicar claramente cuantos son los renglones con errores y a que archivos corresponden\n",
        "2.   Crear un nuevo conjunto de datos con los errores eliminados\n",
        "\n",
        "Respuesta:\n",
        "\n",
        "* El archivo 1 tiene: \n",
        "** 7326207 renglones con errores de datos faltantes\n",
        "** 140165 errores de coordenadas fuera del cuadro de NY\n",
        "** 33 errores de número pasajeros\n",
        "\n",
        "* El archivo 2 tiene: \n",
        "** 6952551 renglones con errores de datos faltantes\n",
        "** 137878 errores de coordenadas fuera del cuadro de NY\n",
        "** 55 errores de número pasajeros\n",
        "\n",
        "* El archivo 3 tiene: \n",
        "** Errores en el nombre de sus columnas (un espacio al principio)\n",
        "** 7819244 renglones con errores de datos faltantes\n",
        "** 157562 errores de coordenadas fuera del cuadro de NY\n",
        "** 64 errores de número pasajeros\n",
        "\n",
        "* El archivo 4 tiene: \n",
        "** Errores en el nombre de sus columnas (un espacio al principio)\n",
        "** 7518657 renglones con errores de datos faltantes\n",
        "** 150954 errores de coordenadas fuera del cuadro de NY\n",
        "** 44 errores de número pasajeros\n",
        "\n",
        "\n",
        "Se crearon archivos  nuevos sin los datos con errores encontrados:\n",
        "* limpio_trip_data_1.csv\n",
        "* limpio_trip_data_2.csv\n",
        "* limpio_trip_data_3.csv\n",
        "* limpio_trip_data_4.csv\n",
        "\n",
        "La respuesta fué obtenida ejecutando el codigo de las siguientes 8 celdas:"
      ]
    },
    {
      "cell_type": "code",
      "metadata": {
        "id": "5LluBwZB5C-h",
        "colab_type": "code",
        "outputId": "26c8a7fc-1048-4291-fbc9-59e6d09eb5fb",
        "colab": {
          "base_uri": "https://localhost:8080/",
          "height": 68
        }
      },
      "source": [
        "missing_values = [\"\", \" \", \"-\", \"_\"]\n",
        "df_temp = pd.read_csv(\"trip_data_1.csv\", na_values = missing_values)\n",
        "datosConErrores = df_temp.isna()\n",
        "errores = datosConErrores[datosConErrores.isin([True])].dropna(how=\"all\")\n",
        "print(\"El archivo 1 tiene {} renglones con errores de datos faltantes\".format(errores.shape[0]))\n",
        "df_temp = df_temp.drop(errores.index)\n",
        "antes = df_temp.shape[0]\n",
        "df_temp = df_temp[(df_temp[\"pickup_longitude\"] > -74.253842) & (df_temp[\"pickup_longitude\"] <  -73.709271) & (df_temp[\"pickup_latitude\"] > 40.495089) & (df_temp[\"pickup_latitude\"] < 40.910281)]\n",
        "print(\"El archivo 1 tiene {} errores de coordenadas\".format((antes - df_temp.shape[0])))\n",
        "antes = df_temp.shape[0]\n",
        "df_temp = df_temp[(df_temp[\"passenger_count\"] > 0) & (df_temp[\"passenger_count\"] < 7)]\n",
        "print(\"El archivo 1 tiene {} errores de pasajeros\".format((antes - df_temp.shape[0])))\n",
        "df_temp.to_csv(\"limpio_trip_data_1.csv\", sep=',', encoding='utf-8')"
      ],
      "execution_count": 18,
      "outputs": [
        {
          "output_type": "stream",
          "text": [
            "El archivo 1 tiene 7326207 renglones con errores de datos faltantes\n",
            "El archivo 1 tiene 140165 errores de coordenadas\n",
            "El archivo 1 tiene 33 errores de pasajeros\n"
          ],
          "name": "stdout"
        }
      ]
    },
    {
      "cell_type": "code",
      "metadata": {
        "id": "6kIjJdR6C_LA",
        "colab_type": "code",
        "colab": {}
      },
      "source": [
        "rm trip_data_1.csv"
      ],
      "execution_count": 0,
      "outputs": []
    },
    {
      "cell_type": "code",
      "metadata": {
        "id": "aeqNhfXzDzG0",
        "colab_type": "code",
        "outputId": "565a3674-f95b-46ed-c3e4-823fa5e4ab4c",
        "colab": {
          "base_uri": "https://localhost:8080/",
          "height": 122
        }
      },
      "source": [
        "missing_values = [\"\", \" \", \"-\", \"_\"]\n",
        "df_temp = pd.read_csv(\"trip_data_2.csv\", na_values = missing_values)\n",
        "datosConErrores = df_temp.isna()\n",
        "errores = datosConErrores[datosConErrores.isin([True])].dropna(how=\"all\")\n",
        "print(\"El archivo 2 tiene {} renglones con errores de datos faltantes\".format(errores.shape[0]))\n",
        "df_temp = df_temp.drop(errores.index)\n",
        "antes = df_temp.shape[0]\n",
        "df_temp = df_temp[(df_temp[\"pickup_longitude\"] > -74.253842) & (df_temp[\"pickup_longitude\"] <  -73.709271) & (df_temp[\"pickup_latitude\"] > 40.495089) & (df_temp[\"pickup_latitude\"] < 40.910281)]\n",
        "print(\"El archivo 2 tiene {} errores de coordenadas\".format((antes - df_temp.shape[0])))\n",
        "antes = df_temp.shape[0]\n",
        "df_temp = df_temp[(df_temp[\"passenger_count\"] > 0) & (df_temp[\"passenger_count\"] < 7)]\n",
        "print(\"El archivo 2 tiene {} errores de pasajeros\".format((antes - df_temp.shape[0])))\n",
        "df_temp.to_csv(\"limpio_trip_data_2.csv\", sep=',', encoding='utf-8')"
      ],
      "execution_count": 0,
      "outputs": [
        {
          "output_type": "stream",
          "text": [
            "/usr/local/lib/python3.6/dist-packages/IPython/core/interactiveshell.py:2718: DtypeWarning: Columns (4) have mixed types. Specify dtype option on import or set low_memory=False.\n",
            "  interactivity=interactivity, compiler=compiler, result=result)\n"
          ],
          "name": "stderr"
        },
        {
          "output_type": "stream",
          "text": [
            "El archivo 2 tiene 6952551 renglones con errores de datos faltantes\n",
            "El archivo 2 tiene 137878 errores de coordenadas\n",
            "El archivo 2 tiene 55 errores de pasajeros\n"
          ],
          "name": "stdout"
        }
      ]
    },
    {
      "cell_type": "code",
      "metadata": {
        "id": "AnawLIHND4tj",
        "colab_type": "code",
        "colab": {}
      },
      "source": [
        "rm trip_data_2.csv"
      ],
      "execution_count": 0,
      "outputs": []
    },
    {
      "cell_type": "code",
      "metadata": {
        "id": "VUn1rfieFM1h",
        "colab_type": "code",
        "colab": {}
      },
      "source": [
        "missing_values = [\"\", \" \", \"-\", \"_\"]\n",
        "df_temp = pd.read_csv(\"trip_data_3.csv\", na_values = missing_values)\n",
        "datosConErrores = df_temp.isna()\n",
        "errores = datosConErrores[datosConErrores.isin([True])].dropna(how=\"all\")\n",
        "print(\"El archivo 3 tiene {} renglones con errores de datos faltantes\".format(errores.shape[0]))\n",
        "df_temp = df_temp.drop(errores.index)\n",
        "antes = df_temp.shape[0]\n",
        "df_temp.columns = df_temp.columns.str.strip()\n",
        "df_temp = df_temp[(df_temp[\"pickup_longitude\"] > -74.253842) & (df_temp[\"pickup_longitude\"] <  -73.709271) & (df_temp[\"pickup_latitude\"] > 40.495089) & (df_temp[\"pickup_latitude\"] < 40.910281)]\n",
        "print(\"El archivo 3 tiene {} errores de coordenadas\".format((antes - df_temp.shape[0])))\n",
        "antes = df_temp.shape[0]\n",
        "df_temp = df_temp[(df_temp[\"passenger_count\"] > 0) & (df_temp[\"passenger_count\"] < 7)]\n",
        "print(\"El archivo 3 tiene {} errores de pasajeros\".format((antes - df_temp.shape[0])))\n",
        "df_temp.to_csv(\"limpio_trip_data_3.csv\", sep=',', encoding='utf-8')"
      ],
      "execution_count": 0,
      "outputs": []
    },
    {
      "cell_type": "code",
      "metadata": {
        "id": "MfvqNbbkFTS6",
        "colab_type": "code",
        "colab": {}
      },
      "source": [
        "rm trip_data_3.csv"
      ],
      "execution_count": 0,
      "outputs": []
    },
    {
      "cell_type": "code",
      "metadata": {
        "id": "d-xnphRkJAqA",
        "colab_type": "code",
        "outputId": "1755e91c-c834-4def-da90-c1cbf5c0aa4a",
        "colab": {
          "base_uri": "https://localhost:8080/",
          "height": 122
        }
      },
      "source": [
        "missing_values = [\"\", \" \", \"-\", \"_\"]\n",
        "df_temp = pd.read_csv(\"trip_data_4.csv\", na_values = missing_values)\n",
        "datosConErrores = df_temp.isna()\n",
        "errores = datosConErrores[datosConErrores.isin([True])].dropna(how=\"all\")\n",
        "print(\"El archivo 4 tiene {} renglones con errores de datos faltantes\".format(errores.shape[0]))\n",
        "df_temp = df_temp.drop(errores.index)\n",
        "antes = df_temp.shape[0]\n",
        "df_temp.columns = df_temp.columns.str.strip()\n",
        "df_temp = df_temp[(df_temp[\"pickup_longitude\"] > -74.253842) & (df_temp[\"pickup_longitude\"] <  -73.709271) & (df_temp[\"pickup_latitude\"] > 40.495089) & (df_temp[\"pickup_latitude\"] < 40.910281)]\n",
        "print(\"El archivo 4 tiene {} errores de coordenadas\".format((antes - df_temp.shape[0])))\n",
        "antes = df_temp.shape[0]\n",
        "df_temp = df_temp[(df_temp[\"passenger_count\"] > 0) & (df_temp[\"passenger_count\"] < 7)]\n",
        "print(\"El archivo 4 tiene {} errores de pasajeros\".format((antes - df_temp.shape[0])))\n",
        "df_temp.to_csv(\"limpio_trip_data_4.csv\", sep=',', encoding='utf-8')\n"
      ],
      "execution_count": 15,
      "outputs": [
        {
          "output_type": "stream",
          "text": [
            "/usr/local/lib/python3.6/dist-packages/IPython/core/interactiveshell.py:2718: DtypeWarning: Columns (4) have mixed types. Specify dtype option on import or set low_memory=False.\n",
            "  interactivity=interactivity, compiler=compiler, result=result)\n"
          ],
          "name": "stderr"
        },
        {
          "output_type": "stream",
          "text": [
            "El archivo 4 tiene 7518657 renglones con errores de datos faltantes\n",
            "El archivo 4 tiene 150954 errores de coordenadas\n",
            "El archivo 4 tiene 44 errores de pasajeros\n"
          ],
          "name": "stdout"
        }
      ]
    },
    {
      "cell_type": "code",
      "metadata": {
        "id": "19RMDajE5BNJ",
        "colab_type": "code",
        "colab": {}
      },
      "source": [
        "rm trip_data_4.csv"
      ],
      "execution_count": 0,
      "outputs": []
    },
    {
      "cell_type": "code",
      "metadata": {
        "id": "aUS4g1UV_lsz",
        "colab_type": "code",
        "colab": {}
      },
      "source": [
        "#df_temp['trip_distance'].value_counts()\n",
        "#df_temp.loc[ 14739051 , : ]"
      ],
      "execution_count": 0,
      "outputs": []
    },
    {
      "cell_type": "markdown",
      "metadata": {
        "id": "YA07PpvXfhN_",
        "colab_type": "text"
      },
      "source": [
        "## 5.- Crear un DataFrame usando la libreria pandas\n",
        "\n",
        "Responder lo siguiente:\n",
        "\n",
        "* Indicar el tiempo en segundos, que tarda la libreria pandas en leer un archivo a un DataFrame.\n",
        "* Cual es la huella de memoria del proceso usado para generar el objeto DataFrame\n",
        "* Cuanta memoria del sistema se usa para crear el objeto anterior\n",
        "* Indicar el tiempo que tarda pandas en obtener el promedio de la distancia de viaje (trip_distance)\n",
        "\n",
        "Respuesta:\n",
        "\n",
        "* Pandas tardó 103.3 segundos en leer el archivo.\n",
        "* La huella de memoria es 910.65 mb.\n",
        "* Se usa 1.5+ GB de memoria para crear el objeto.\n",
        "* El tiempo que toma en obtener el promedio es 33.91 ms\n",
        "\n",
        "La respuesta fué obtenida ejecutando el codigo de las siguientes 5 celdas:"
      ]
    },
    {
      "cell_type": "code",
      "metadata": {
        "id": "rJWH_yh7fjZM",
        "colab_type": "code",
        "colab": {}
      },
      "source": [
        "import time\n",
        "import psutil, os"
      ],
      "execution_count": 0,
      "outputs": []
    },
    {
      "cell_type": "code",
      "metadata": {
        "id": "VtvsIFuJiB8F",
        "colab_type": "code",
        "colab": {}
      },
      "source": [
        "def huella_de_memoria():\n",
        "  '''Regresa la memoria usada por un proceso en Python'''\n",
        "  mem = psutil.Process(os.getpid()).memory_info().rss\n",
        "  return(mem / 1024**2)"
      ],
      "execution_count": 0,
      "outputs": []
    },
    {
      "cell_type": "code",
      "metadata": {
        "id": "uXW4poGug1UX",
        "colab_type": "code",
        "colab": {
          "base_uri": "https://localhost:8080/",
          "height": 122
        },
        "outputId": "de6d8bc9-b9eb-43a1-f3cb-44ecc176302d"
      },
      "source": [
        "start = time.time()\n",
        "antes = huella_de_memoria()\n",
        "df = pd.read_csv(\"trip_data_2.csv\")\n",
        "end = time.time()\n",
        "despues = huella_de_memoria()\n",
        "print(despues)\n",
        "print(\"El tiempo que toma leer el archivo es {} segundos\".format(end - start))\n",
        "print(\"La huella de memoria del proceso para leer el archivo es {} \".format(despues-antes))"
      ],
      "execution_count": 33,
      "outputs": [
        {
          "output_type": "stream",
          "text": [
            "/usr/local/lib/python3.6/dist-packages/IPython/core/interactiveshell.py:2718: DtypeWarning: Columns (4) have mixed types. Specify dtype option on import or set low_memory=False.\n",
            "  interactivity=interactivity, compiler=compiler, result=result)\n"
          ],
          "name": "stderr"
        },
        {
          "output_type": "stream",
          "text": [
            "11141.29296875\n",
            "El tiempo que toma leer el archivo es 103.27230644226074 segundos\n",
            "La huella de memoria del proceso para leer el archivo es 910.64453125 \n"
          ],
          "name": "stdout"
        }
      ]
    },
    {
      "cell_type": "code",
      "metadata": {
        "id": "21FHpRBsk-yb",
        "colab_type": "code",
        "colab": {
          "base_uri": "https://localhost:8080/",
          "height": 340
        },
        "outputId": "e0e704ae-4c02-41f8-c59a-76d87ea10146"
      },
      "source": [
        "df.info()"
      ],
      "execution_count": 34,
      "outputs": [
        {
          "output_type": "stream",
          "text": [
            "<class 'pandas.core.frame.DataFrame'>\n",
            "RangeIndex: 13990176 entries, 0 to 13990175\n",
            "Data columns (total 14 columns):\n",
            "medallion             object\n",
            "hack_license          object\n",
            "vendor_id             object\n",
            "rate_code             int64\n",
            "store_and_fwd_flag    object\n",
            "pickup_datetime       object\n",
            "dropoff_datetime      object\n",
            "passenger_count       int64\n",
            "trip_time_in_secs     int64\n",
            "trip_distance         float64\n",
            "pickup_longitude      float64\n",
            "pickup_latitude       float64\n",
            "dropoff_longitude     float64\n",
            "dropoff_latitude      float64\n",
            "dtypes: float64(5), int64(3), object(6)\n",
            "memory usage: 1.5+ GB\n"
          ],
          "name": "stdout"
        }
      ]
    },
    {
      "cell_type": "code",
      "metadata": {
        "id": "l924VDuKg2hx",
        "colab_type": "code",
        "colab": {
          "base_uri": "https://localhost:8080/",
          "height": 34
        },
        "outputId": "753847f2-0d16-48d6-8d7f-af3fb58d7b4b"
      },
      "source": [
        "start = time.time()\n",
        "df[\"trip_distance\"].mean()\n",
        "end = time.time()\n",
        "print(\"El tiempo que toma en obtener el promedio es {} ms\".format(  (end - start) * 1000  ))"
      ],
      "execution_count": 39,
      "outputs": [
        {
          "output_type": "stream",
          "text": [
            "El tiempo que toma en obtener el promedio es 33.90693664550781 ms\n"
          ],
          "name": "stdout"
        }
      ]
    }
  ]
}